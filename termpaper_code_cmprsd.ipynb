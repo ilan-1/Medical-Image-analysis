{
 "cells": [
  {
   "cell_type": "markdown",
   "id": "911e553a-126e-49fe-b2de-1ad614416590",
   "metadata": {},
   "source": [
    "**<center><font size=5>Brain Tumor Detection with VGG-16 Model</font></center>**\n",
    "***\n",
    "**Author**: Navnitan || Ilanggkumaran\n",
    "\n",
    "**Date**: 30th Nov, 2021\n",
    "\n",
    "**Table of Contents**\n",
    "- <a href='#imports'>1. Project Imports and Setting up the Environment</a> \n",
    "- <a href='#data'>2. Data Import and Preperation</a>\n",
    "- <a href='#pre'>3. Preprocessing</a>\n",
    "    - <a href='#filter'>3.1 Filter </a>\n",
    "    - <a href='#hist'>3.2 CLAHE and Histogram Equalizer </a>\n",
    "    - <a href='#dil'>3.3 Dilation and Erosion </a>\n",
    "    - <a href = \"#crop\"> 3.4 Cropping </a>\n",
    "        - <a href = \"#crop + filter\"> 3.4.1 Crop + Filter + CLAHE </a>\n",
    "    - <a href='#pipe'>3.5 Preprocessing Pipeline </a>\n",
    "- <a href='#aug'>4. Data Augmentation</a>\n",
    "- <a href='#conv'>5. CNN Model</a>\n",
    "- <a href='#train'>6. Training</a>\n",
    "    - <a href = \"#1\"> 6.1 Without Preprocessing </a>\n",
    "    - <a href = \"#2\"> 6.2 Only with Histogram equalization </a> \n",
    "    - <a href = \"#3\"> 6.3 Only with CLAHE </a>\n",
    "    - <a href = \"#4\"> 6.4 Only with Median filter </a>   \n",
    "    - <a href = \"#5\"> 6.5 Only with Gaussian filter </a> \n",
    "    - <a href = \"#6\"> 6.6 Only with Dilation </a>   \n",
    "    - <a href = \"#7\"> 6.7 Only with Erosion </a>\n",
    "    - <a href = \"#8\"> 6.8 With Median filter + CLAHE </a> \n",
    "    - <a href = \"#9\"> 6.9 With Erosion + CLAHE </a> \n",
    "    - <a href = \"#10\"> 6.10 With Cropped Image </a> \n",
    "    - <a href = \"#11\"> 6.11 With Cropped + Median Image </a>   \n",
    "    - <a href = \"#12\"> 6.12 With Cropped + Median + Erosion Image </a>    "
   ]
  },
  {
   "cell_type": "markdown",
   "id": "81d3129a",
   "metadata": {},
   "source": [
    "### <a id = \"import\"> 1. Imports </a>"
   ]
  },
  {
   "cell_type": "code",
   "execution_count": 2,
   "id": "be8ed4f0-a1ec-4a0d-8ff1-f4434b8f7507",
   "metadata": {},
   "outputs": [],
   "source": [
    "import tensorflow as tf\n",
    "import os\n",
    "import numpy as np\n",
    "import pandas as pd\n",
    "import matplotlib.pyplot as plt\n",
    "%matplotlib inline\n",
    "from tensorflow.keras.preprocessing import image\n",
    "from tensorflow.keras.preprocessing.image import ImageDataGenerator,load_img, img_to_array\n",
    "from tensorflow.keras.metrics import categorical_crossentropy\n",
    "from tensorflow.keras.models import Sequential, Model\n",
    "from tensorflow.keras.layers import Conv2D, MaxPooling2D,GlobalAveragePooling2D\n",
    "from tensorflow.keras.layers import Activation, Dropout, BatchNormalization, Flatten, Dense, AvgPool2D,MaxPool2D\n",
    "from tensorflow.keras.models import Sequential, Model\n",
    "from tensorflow.keras.optimizers import Adam, SGD, RMSprop\n",
    "from tensorflow.keras import backend as K\n",
    "import cv2\n",
    "import shutil\n",
    "import glob\n",
    "import imutils\n",
    "import warnings\n",
    "warnings.filterwarnings('ignore')\n"
   ]
  },
  {
   "cell_type": "code",
   "execution_count": 1,
   "id": "f0b680eb-ca4a-41a1-ac44-74fc550fb1a3",
   "metadata": {},
   "outputs": [],
   "source": [
    "#Genral library\n",
    "import numpy as np\n",
    "import os\n",
    "from tqdm import tqdm\n",
    "import pandas as pd\n",
    "from copy import deepcopy\n",
    "import matplotlib.pyplot as plt\n",
    "import imutils\n",
    "\n",
    "#Image Preprocessing\n",
    "from skimage import filters, color\n",
    "from skimage.morphology import (erosion, dilation, opening, closing,white_tophat, disk)\n",
    "import cv2\n",
    "from skimage import exposure\n",
    "from skimage.morphology import square\n",
    "from skimage.util import img_as_ubyte\n",
    "from skimage.morphology import (erosion, dilation, opening, closing,white_tophat)\n",
    "from skimage.morphology import disk \n",
    "from skimage.filters import gaussian,median\n",
    "from skimage import exposure\n",
    "\n",
    "#Training \n",
    "from sklearn.model_selection import train_test_split\n",
    "from sklearn.metrics import accuracy_score,confusion_matrix,classification_report,ConfusionMatrixDisplay\n"
   ]
  },
  {
   "cell_type": "markdown",
   "id": "455c03f6",
   "metadata": {},
   "source": [
    "### <a id=\"data\"> 2. Dataset Preparation </a>"
   ]
  },
  {
   "cell_type": "code",
   "execution_count": 3,
   "id": "18516603",
   "metadata": {},
   "outputs": [],
   "source": [
    "data = 'dataset'\n",
    "no_tumor = 'dataset/no'\n",
    "yes_tumor = 'dataset/yes'"
   ]
  },
  {
   "cell_type": "code",
   "execution_count": 4,
   "id": "4c17a568",
   "metadata": {},
   "outputs": [
    {
     "name": "stdout",
     "output_type": "stream",
     "text": [
      "filepaths:  253    labels:  253\n"
     ]
    }
   ],
   "source": [
    "dirlist=[no_tumor, yes_tumor]\n",
    "classes=['No', 'Yes']\n",
    "filepaths=[]\n",
    "labels=[]\n",
    "for i,j in zip(dirlist, classes):\n",
    "    filelist=os.listdir(i)\n",
    "    for f in filelist:\n",
    "        filepath=os.path.join (i,f)\n",
    "        filepaths.append(filepath)\n",
    "        labels.append(j)\n",
    "print ('filepaths: ', len(filepaths), '   labels: ', len(labels))"
   ]
  },
  {
   "cell_type": "code",
   "execution_count": 5,
   "id": "b97bf89a",
   "metadata": {
    "scrolled": true
   },
   "outputs": [
    {
     "data": {
      "text/html": [
       "<div>\n",
       "<style scoped>\n",
       "    .dataframe tbody tr th:only-of-type {\n",
       "        vertical-align: middle;\n",
       "    }\n",
       "\n",
       "    .dataframe tbody tr th {\n",
       "        vertical-align: top;\n",
       "    }\n",
       "\n",
       "    .dataframe thead th {\n",
       "        text-align: right;\n",
       "    }\n",
       "</style>\n",
       "<table border=\"1\" class=\"dataframe\">\n",
       "  <thead>\n",
       "    <tr style=\"text-align: right;\">\n",
       "      <th></th>\n",
       "      <th>filepaths</th>\n",
       "      <th>labels</th>\n",
       "    </tr>\n",
       "  </thead>\n",
       "  <tbody>\n",
       "    <tr>\n",
       "      <th>0</th>\n",
       "      <td>dataset/no/31 no.jpg</td>\n",
       "      <td>No</td>\n",
       "    </tr>\n",
       "    <tr>\n",
       "      <th>1</th>\n",
       "      <td>dataset/no/38 no.jpg</td>\n",
       "      <td>No</td>\n",
       "    </tr>\n",
       "    <tr>\n",
       "      <th>2</th>\n",
       "      <td>dataset/no/N21.jpg</td>\n",
       "      <td>No</td>\n",
       "    </tr>\n",
       "    <tr>\n",
       "      <th>3</th>\n",
       "      <td>dataset/no/28 no.jpg</td>\n",
       "      <td>No</td>\n",
       "    </tr>\n",
       "    <tr>\n",
       "      <th>4</th>\n",
       "      <td>dataset/no/no 10.jpg</td>\n",
       "      <td>No</td>\n",
       "    </tr>\n",
       "  </tbody>\n",
       "</table>\n",
       "</div>"
      ],
      "text/plain": [
       "              filepaths labels\n",
       "0  dataset/no/31 no.jpg     No\n",
       "1  dataset/no/38 no.jpg     No\n",
       "2    dataset/no/N21.jpg     No\n",
       "3  dataset/no/28 no.jpg     No\n",
       "4  dataset/no/no 10.jpg     No"
      ]
     },
     "execution_count": 5,
     "metadata": {},
     "output_type": "execute_result"
    }
   ],
   "source": [
    "Files=pd.Series(filepaths, name='filepaths')\n",
    "Label=pd.Series(labels, name='labels')\n",
    "df=pd.concat([Files,Label], axis=1)\n",
    "df=pd.DataFrame(np.array(df).reshape(253,2), columns = ['filepaths', 'labels'])\n",
    "data = np.array(df)\n",
    "df.head()"
   ]
  },
  {
   "cell_type": "markdown",
   "id": "6870221e",
   "metadata": {},
   "source": [
    "The modality of the data set is MRI\n",
    "\n",
    "| Data | Quantity |\n",
    "|:-:|:-:|\n",
    "| With Tumor | 155 |\n",
    "| Without Tumor | 98 |\n",
    "| **Total** | **253** |"
   ]
  },
  {
   "cell_type": "code",
   "execution_count": null,
   "id": "7406ff66",
   "metadata": {},
   "outputs": [],
   "source": [
    "plt.figure(figsize=(12,8))\n",
    "for i in range(15):\n",
    "    random = np.random.randint(1,len(df))\n",
    "    plt.subplot(3,5,i+1)\n",
    "    plt.imshow(cv2.imread(df.loc[random,\"filepaths\"]))\n",
    "    plt.title(df.loc[random, \"labels\"], size = 15, color = \"white\") \n",
    "    plt.xticks([])\n",
    "    plt.yticks([])\n",
    "    \n",
    "plt.show()"
   ]
  },
  {
   "cell_type": "code",
   "execution_count": 7,
   "id": "a7967826",
   "metadata": {},
   "outputs": [
    {
     "name": "stdout",
     "output_type": "stream",
     "text": [
      "train set length: 181\n",
      "test set length: 51\n",
      "validation set length: 21\n"
     ]
    }
   ],
   "source": [
    "train, test = train_test_split(df, train_size=0.80, random_state=0)\n",
    "train_new, valid = train_test_split(train, train_size=0.90, random_state=0)\n",
    "\n",
    "print(f\"train set length: {len(train_new)}\")\n",
    "print(f\"test set length: {len(test)}\")\n",
    "print(f\"validation set length: {len(valid)}\")"
   ]
  },
  {
   "cell_type": "markdown",
   "id": "157d14ee",
   "metadata": {},
   "source": [
    "### <a id = \"pre\"> 3. Image Preprocessing </a>"
   ]
  },
  {
   "cell_type": "markdown",
   "id": "48e1da13",
   "metadata": {},
   "source": [
    "### <a id = \"filter\"> 3.1 Filter </a>\n",
    "\n",
    "The predominant noise in the MRI modality will be Gaussian, Rician and Rayleigh noises. So variety of filters will be tested on the data set and the filter with the highest average PSNR value will be Choosen for prerocessing.\n",
    "\n",
    "| Filter Type | Average PSNR |\n",
    "|:-:|:-:|\n",
    "| NL Mean Filter | 35.048 |\n",
    "| Median Filter | 36.251 | \n",
    "| Mean Filter | 30.401 |\n",
    "| Bilateral Filter | 32.976 |"
   ]
  },
  {
   "cell_type": "code",
   "execution_count": 9,
   "id": "c52d81ff",
   "metadata": {},
   "outputs": [],
   "source": [
    "def nlmean(img):\n",
    "    return cv2.fastNlMeansDenoisingColored(img, None,10,10,7,21)\n",
    "\n",
    "def median(img):\n",
    "    return filters.median(img)\n",
    "\n",
    "def mean(img):\n",
    "    return cv2.medianBlur(img,5)\n",
    "\n",
    "def bilateral(img):\n",
    "    return cv2.bilateralFilter(img, 15, 50, 50)\n",
    "\n",
    "def gaussian_filter(src_img):\n",
    "    return gaussian(src_img)\n",
    "\n",
    "def filter_preprocess(process, img):\n",
    "    if(process == 'gaussian'):\n",
    "        img1 = gaussian(img)\n",
    "    elif(process == 'median'):\n",
    "        img1 = median(img)\n",
    "    elif(process == 'mean'):\n",
    "        img1 = mean(img)\n",
    "    elif(process == 'nlmean'):\n",
    "        img1 = nlmean(img)\n",
    "    elif(process == 'bilateral'):\n",
    "        img1 = bilateral(img)\n",
    "    else:\n",
    "        print('Error in filter name')   \n",
    "    return img1"
   ]
  },
  {
   "cell_type": "code",
   "execution_count": null,
   "id": "1bb4a6fc",
   "metadata": {},
   "outputs": [],
   "source": [
    "filt = [\"median\", \"mean\", \"nlmean\", \"bilateral\"] \n",
    "\n",
    "plt.figure(figsize=(20,20))\n",
    "j = 0\n",
    "\n",
    "for fil in filt: \n",
    "    psnr = 0\n",
    "    for i in range(len(df)):\n",
    "        img = cv2.imread(data[i,0])\n",
    "        img1 = filter_preprocess(fil, img)\n",
    "        psnr += cv2.PSNR(img1, img)\n",
    "        if i == 0:\n",
    "            print(fil + \" \" + str(psnr) + \" \" + \"For Image \" + data[i, 0])\n",
    "            plt.subplot(6,7,j+1)\n",
    "            plt.imshow(img1)\n",
    "            plt.title(fil)\n",
    "            plt.xticks([])\n",
    "            plt.yticks([])\n",
    "    print(fil + \" \" + str(round(psnr/len(df), 3)) + \" For Average \\n\")\n",
    "    j += 1\n",
    "plt.show()\n"
   ]
  },
  {
   "cell_type": "markdown",
   "id": "32b5006c",
   "metadata": {},
   "source": [
    "### <a id = \"hist\"> 3.2 CLAHE and Histogram Equalizer </a>"
   ]
  },
  {
   "cell_type": "markdown",
   "id": "9c107700",
   "metadata": {},
   "source": [
    "Applying CLAHE caused the Accuracy of the algorithm to decrease.\n",
    "\n",
    "| Filter Type + CLAHE | Average PSNR |\n",
    "|:-:|:-:|\n",
    "| NL Mean Filter | 23.515 |\n",
    "| Median Filter | 22.394 | \n",
    "| Mean Filter | 22.247 |\n",
    "| Bilateral Filter | 23.605 |"
   ]
  },
  {
   "cell_type": "code",
   "execution_count": 11,
   "id": "50d6a09c",
   "metadata": {},
   "outputs": [],
   "source": [
    "def clahe(src_img):\n",
    "    if(len(src_img.shape) == 3):\n",
    "        lab = cv2.cvtColor(src_img, cv2.COLOR_BGR2LAB)\n",
    "        lab_planes = cv2.split(lab)\n",
    "        #print(lab_planes.shape)\n",
    "        a = cv2.createCLAHE(clipLimit = 2.0)\n",
    "        lab_planes[0] = a.apply(lab_planes[0]) \n",
    "        lab = cv2.merge(lab_planes)\n",
    "        img1 = cv2.cvtColor(lab, cv2.COLOR_LAB2BGR)\n",
    "    else:\n",
    "        clahe = cv.createCLAHE(clipLimit=5)\n",
    "        img1 = clahe.apply(src_img)\n",
    "    return img1"
   ]
  },
  {
   "cell_type": "code",
   "execution_count": 12,
   "id": "b8967f75",
   "metadata": {},
   "outputs": [],
   "source": [
    "def histogram_equalization(src_img):\n",
    "    if(len(src_img.shape) == 3):\n",
    "        (B1, G1, R1) = cv2.split(src_img)\n",
    "        bgr = []\n",
    "        for i in (B1, G1, R1):\n",
    "            equ_img = exposure.equalize_hist(i)\n",
    "            bgr.append(equ_img)\n",
    "        merged = cv2.merge(bgr)\n",
    "    else:\n",
    "        merged = exposure.equalize_hist(src_img)\n",
    "    merged = merged.astype(np.uint8)\n",
    "    return merged"
   ]
  },
  {
   "cell_type": "code",
   "execution_count": null,
   "id": "2b4f54f3",
   "metadata": {},
   "outputs": [],
   "source": [
    "filt = [\"median\", \"mean\", \"nlmean\", \"bilateral\"] \n",
    "\n",
    "plt.figure(figsize=(20,20))\n",
    "j = 0\n",
    "for fil in filt:\n",
    "    psnr = 0\n",
    "    psnr1 = 0\n",
    "    for i in range(len(data)):\n",
    "        img = cv2.imread(data[i,0])\n",
    "        img1 = filter_preprocess(fil, img)\n",
    "        psnr1 += cv2.PSNR(img, img1)\n",
    "        img1 = clahe(img1)\n",
    "        psnr += cv2.PSNR(img, img1)\n",
    "        if i == 0:\n",
    "            print(fil + \" \" + str(round(psnr, 3)) + \" and \" + str(round(psnr1, 3)) + \" For Image \" + data[i, 0])\n",
    "            plt.subplot(6,7,j+1)\n",
    "            plt.title(fil)\n",
    "            plt.imshow(img1)\n",
    "            plt.xticks([])\n",
    "            plt.yticks([])\n",
    "            #print(img1)\n",
    "    print(fil + \" \" + str(round(psnr/len(df), 3)) + \" and \" + str(round(psnr1/len(df), 3)) + \" For Average \\n\")\n",
    "    j += 1\n",
    "plt.show()"
   ]
  },
  {
   "cell_type": "code",
   "execution_count": null,
   "id": "80435cb6",
   "metadata": {},
   "outputs": [],
   "source": [
    "filt = [\"median\", \"mean\", \"nlmean\", \"bilateral\"] \n",
    "\n",
    "plt.figure(figsize=(20,20))\n",
    "j = 0\n",
    "for fil in filt:\n",
    "    psnr = 0\n",
    "    for i in range(len(df)):\n",
    "        img = cv2.imread(data[i,0])\n",
    "        img1 = filter_preprocess(fil, img)\n",
    "        img1 = histogram_equalization(img1)\n",
    "        psnr += cv2.PSNR(img, img1)\n",
    "        if i == 0:\n",
    "            print(fil + \" \" + str(psnr) + \" \" + \"For Image \" + data[i, 0])\n",
    "            plt.subplot(6,7,j+1)\n",
    "            plt.imshow(img1)\n",
    "            plt.xticks([])\n",
    "            plt.yticks([])\n",
    "            #print(img1)\n",
    "    print(fil + \" \" + str(round(psnr/len(df), 3)) + \" For Average \\n\")\n",
    "    j += 1\n",
    "plt.show()\n"
   ]
  },
  {
   "cell_type": "markdown",
   "id": "5d0e69fd",
   "metadata": {},
   "source": [
    "### <a id = \"dil\"> 3.3 Erosion and Dilation </a>"
   ]
  },
  {
   "cell_type": "code",
   "execution_count": 15,
   "id": "2190c427",
   "metadata": {},
   "outputs": [],
   "source": [
    "def erosion_(src_img):\n",
    "    (B1, G1, R1) = cv2.split(src_img)\n",
    "    bgr = []\n",
    "    for i in (B1, G1, R1):\n",
    "        equ_img = erosion(i)\n",
    "        bgr.append(equ_img)\n",
    "    merged = cv2.merge(bgr)\n",
    "    return merged\n",
    "\n",
    "def dilation_(src_img):\n",
    "    (B1, G1, R1) = cv2.split(src_img)\n",
    "    bgr = []\n",
    "    for i in (B1, G1, R1):\n",
    "        equ_img = dilation(i,disk(3))\n",
    "        bgr.append(equ_img)\n",
    "    merged = cv2.merge(bgr)\n",
    "    return merged"
   ]
  },
  {
   "cell_type": "code",
   "execution_count": null,
   "id": "3a6249de",
   "metadata": {},
   "outputs": [],
   "source": [
    "\n",
    "plt.figure(figsize=(10,10))\n",
    "\n",
    "plt.subplot(2,2,1)\n",
    "plt.imshow(img)\n",
    "plt.title(\"Original\")\n",
    "plt.xticks([])\n",
    "plt.yticks([])\n",
    "\n",
    "plt.subplot(2,2,2)\n",
    "plt.imshow(erosion_(img))\n",
    "plt.title(\"After Erosion\")\n",
    "plt.xticks([])\n",
    "plt.yticks([])\n",
    "\n",
    "plt.show()\n"
   ]
  },
  {
   "cell_type": "code",
   "execution_count": null,
   "id": "1346bbf0",
   "metadata": {},
   "outputs": [],
   "source": [
    "\n",
    "plt.figure(figsize=(10,10))\n",
    "\n",
    "plt.subplot(2,2,1)\n",
    "plt.imshow(img)\n",
    "plt.title(\"Original\")\n",
    "plt.xticks([])\n",
    "plt.yticks([])\n",
    "\n",
    "plt.subplot(2,2,2)\n",
    "plt.imshow(dilation_(img))\n",
    "plt.title(\"After Dilation\")\n",
    "plt.xticks([])\n",
    "plt.yticks([])\n",
    "\n",
    "plt.show()\n"
   ]
  },
  {
   "cell_type": "markdown",
   "id": "c8c559d0",
   "metadata": {},
   "source": [
    "### <a id = \"crop\"> 3.4 Cropping </a>"
   ]
  },
  {
   "cell_type": "code",
   "execution_count": 18,
   "id": "fe78f55c",
   "metadata": {},
   "outputs": [],
   "source": [
    "def imgcrop(src_img):\n",
    "    gray1 = cv2.cvtColor(src_img.copy(), cv2.COLOR_RGB2GRAY)\n",
    "    gray1 = cv2.GaussianBlur(gray1, (5, 5), 0)\n",
    "\n",
    "    # threshold the image, then perform a series of erosions +\n",
    "    # dilations to remove any small regions of noise\n",
    "    thresh1 = cv2.threshold(gray1, 45, 255, cv2.THRESH_BINARY)[1]\n",
    "    thresh1 = cv2.erode(thresh1, None, iterations=2)\n",
    "    thresh1 = cv2.dilate(thresh1, None, iterations=2)\n",
    "    thresh1 = thresh1.astype(np.uint8)\n",
    "\n",
    "\n",
    "    # find contours in thresholded image, then grab the largest one\n",
    "    cnts = cv2.findContours(thresh1.copy(), cv2.RETR_EXTERNAL, cv2.CHAIN_APPROX_SIMPLE)\n",
    "    cnts = imutils.grab_contours(cnts)\n",
    "    c = max(cnts, key=cv2.contourArea)\n",
    "\n",
    "    # find the extreme points\n",
    "    extLeft = tuple(c[c[:, :, 0].argmin()][0])\n",
    "    extRight = tuple(c[c[:, :, 0].argmax()][0])\n",
    "    extTop = tuple(c[c[:, :, 1].argmin()][0])\n",
    "    extBot = tuple(c[c[:, :, 1].argmax()][0])\n",
    "\n",
    "    ADD_PIXELS = 0\n",
    "    new_img = src_img[extTop[1]-ADD_PIXELS:extBot[1]+ADD_PIXELS, extLeft[0]-ADD_PIXELS:extRight[0]+ADD_PIXELS].copy()\n",
    "    new_img = cv2.resize(\n",
    "            new_img,\n",
    "            dsize=(200, 200),\n",
    "            interpolation=cv2.INTER_CUBIC\n",
    "        )\n",
    "    \n",
    "    return new_img"
   ]
  },
  {
   "cell_type": "code",
   "execution_count": 19,
   "id": "ab47493d",
   "metadata": {
    "scrolled": true
   },
   "outputs": [
    {
     "data": {
      "image/png": "[encoded data removed]",
      "text/plain": [
       "<Figure size 1080x432 with 4 Axes>"
      ]
     },
     "metadata": {},
     "output_type": "display_data"
    }
   ],
   "source": [
    "gray = cv2.cvtColor(img, cv2.COLOR_RGB2GRAY)\n",
    "gray = cv2.GaussianBlur(gray, (5, 5), 0)\n",
    "\n",
    "# threshold the image, then perform a series of erosions +\n",
    "# dilations to remove any small regions of noise\n",
    "thresh = cv2.threshold(gray, 45, 255, cv2.THRESH_BINARY)[1]\n",
    "thresh = cv2.erode(thresh, None, iterations=2)\n",
    "thresh = cv2.dilate(thresh, None, iterations=2)\n",
    "\n",
    "# find contours in thresholded image, then grab the largest one\n",
    "cnts = cv2.findContours(thresh.copy(), cv2.RETR_EXTERNAL, cv2.CHAIN_APPROX_SIMPLE)\n",
    "cnts = imutils.grab_contours(cnts)\n",
    "c = max(cnts, key=cv2.contourArea)\n",
    "\n",
    "# find the extreme points\n",
    "extLeft = tuple(c[c[:, :, 0].argmin()][0])\n",
    "extRight = tuple(c[c[:, :, 0].argmax()][0])\n",
    "extTop = tuple(c[c[:, :, 1].argmin()][0])\n",
    "extBot = tuple(c[c[:, :, 1].argmax()][0])\n",
    "\n",
    "# add contour on the image\n",
    "img_cnt = cv2.drawContours(img.copy(), [c], -1, (0, 255, 255), 4)\n",
    "\n",
    "# add extreme points\n",
    "img_pnt = cv2.circle(img_cnt.copy(), extLeft, 8, (0, 0, 255), -1)\n",
    "img_pnt = cv2.circle(img_pnt, extRight, 8, (0, 255, 0), -1)\n",
    "img_pnt = cv2.circle(img_pnt, extTop, 8, (255, 0, 0), -1)\n",
    "img_pnt = cv2.circle(img_pnt, extBot, 8, (255, 255, 0), -1)\n",
    "\n",
    "# crop\n",
    "ADD_PIXELS = 0\n",
    "new_img = img[extTop[1]-ADD_PIXELS:extBot[1]+ADD_PIXELS, extLeft[0]-ADD_PIXELS:extRight[0]+ADD_PIXELS].copy()\n",
    "\n",
    "plt.figure(figsize=(15,6))\n",
    "plt.subplot(141)\n",
    "plt.imshow(img)\n",
    "plt.xticks([])\n",
    "plt.yticks([])\n",
    "plt.title('Step 1. Get the original image')\n",
    "plt.subplot(142)\n",
    "plt.imshow(img_cnt)\n",
    "plt.xticks([])\n",
    "plt.yticks([])\n",
    "plt.title('Step 2. Find the biggest contour')\n",
    "plt.subplot(143)\n",
    "plt.imshow(img_pnt)\n",
    "plt.xticks([])\n",
    "plt.yticks([])\n",
    "plt.title('Step 3. Find the extreme points')\n",
    "plt.subplot(144)\n",
    "plt.imshow(new_img)\n",
    "plt.xticks([])\n",
    "plt.yticks([])\n",
    "plt.title('Step 4. Crop the image')\n",
    "plt.show()"
   ]
  },
  {
   "cell_type": "code",
   "execution_count": null,
   "id": "930f0000",
   "metadata": {},
   "outputs": [],
   "source": [
    "plt.figure(figsize=(12,8))\n",
    "for i in range(15):\n",
    "    random = np.random.randint(1,len(df))\n",
    "    plt.subplot(3,5,i+1)\n",
    "    src_img = cv2.imread(df.loc[random,\"filepaths\"])\n",
    "    plt.imshow(imgcrop(src_img))\n",
    "    plt.title(df.loc[random, \"labels\"], size = 15, color = \"white\") \n",
    "    plt.xticks([])\n",
    "    plt.yticks([])\n",
    "    \n",
    "plt.show()"
   ]
  },
  {
   "cell_type": "markdown",
   "id": "85cf6035",
   "metadata": {},
   "source": [
    "### <a id = \"crop + filter\"> 3.4.1 Crop + Filter + CLAHE </a>"
   ]
  },
  {
   "cell_type": "code",
   "execution_count": null,
   "id": "4114a0e7",
   "metadata": {},
   "outputs": [],
   "source": [
    "filt = [\"median\", \"mean\", \"nlmean\", \"bilateral\"] \n",
    "\n",
    "plt.figure(figsize=(12,8))\n",
    "j = 0\n",
    "for fil in filt:\n",
    "    psnr = 0\n",
    "    psnr1 = 0\n",
    "    for i in range(len(data)):\n",
    "        img = cv2.imread(data[i,0])\n",
    "        img1 = imgcrop(img)\n",
    "        img2 = filter_preprocess(fil, img1)\n",
    "        psnr1 += cv2.PSNR(img1, img2)\n",
    "        img2 = clahe(img2)\n",
    "        psnr += cv2.PSNR(img1, img2)\n",
    "        if i == 0:\n",
    "            print(fil + \" \" + str(round(psnr, 3)) + \" and \" + str(round(psnr1, 3)) + \" For Image \" + data[i, 0])\n",
    "            plt.subplot(3,5,j+1)\n",
    "            plt.title(fil)\n",
    "            plt.imshow(img2)\n",
    "            plt.xticks([])\n",
    "            plt.yticks([])\n",
    "            #print(img1)\n",
    "    print(fil + \" \" + str(round(psnr/len(df), 3)) + \" and \" + str(round(psnr1/len(df), 3)) + \" For Average \\n\")\n",
    "    j += 1\n",
    "plt.show()"
   ]
  },
  {
   "cell_type": "markdown",
   "id": "2ff38621",
   "metadata": {},
   "source": [
    "###  <a id = \"pipe\"> 3.5 Preprocessing Pipeline </a>"
   ]
  },
  {
   "cell_type": "code",
   "execution_count": 23,
   "id": "bdc40a07",
   "metadata": {},
   "outputs": [],
   "source": [
    "def preprocess_pipeline(process, img):\n",
    "    for pro in process:\n",
    "        if(pro == 'gaussian'):\n",
    "            img = gaussian(img)\n",
    "        elif(pro == 'median'):\n",
    "            img = median(img)\n",
    "        elif(pro == 'mean'):\n",
    "            img = mean(img)\n",
    "        elif(pro == 'nlmean'):\n",
    "            img = nlmean(img)\n",
    "        elif(pro == 'bilateral'):\n",
    "            img = bilateral(img)\n",
    "        elif(pro == 'clahe'):\n",
    "            img = bilateral(img)\n",
    "        elif(pro == \"crop\"):\n",
    "            img = imgcrop(img)\n",
    "        else:\n",
    "            print('Error in filter name')   \n",
    "    return img"
   ]
  },
  {
   "cell_type": "code",
   "execution_count": 24,
   "id": "12ca8c5d",
   "metadata": {},
   "outputs": [],
   "source": [
    "def preprocess_wrapper1(img):\n",
    "    return preprocess_pipeline(processes1,img)"
   ]
  },
  {
   "cell_type": "markdown",
   "id": "09ca6e9b-b3c6-42c7-839d-e9ea7171c894",
   "metadata": {
    "tags": []
   },
   "source": [
    "### <a id=\"aug\"> 4. Data Agumentation </a>"
   ]
  },
  {
   "cell_type": "code",
   "execution_count": 18,
   "id": "e166999f-0876-43d4-a8b5-2c823fbd09e9",
   "metadata": {},
   "outputs": [],
   "source": [
    "def data_aug(preprocess_wrapper):\n",
    "    train_datagen = ImageDataGenerator(rescale = 1.0/255.0,rotation_range = 15, width_shift_range = 0.05, height_shift_range = 0.05, \n",
    "                                   shear_range = 0.05, horizontal_flip = True, vertical_flip =True,preprocessing_function=preprocess_wrapper)\n",
    "    test_datagen = ImageDataGenerator(rescale = 1.0/255.0 , preprocessing_function=preprocess_wrapper)\n",
    "    \n",
    "    RANDOM_SEED = 1234\n",
    "    \n",
    "    train_gen = train_datagen.flow_from_dataframe(dataframe = train_new,\n",
    "                                            x_col = 'filepaths', y_col ='labels',\n",
    "                                            target_size = (150,150), batch_size = 16, \n",
    "                                            class_mode = 'binary', shuffle = True,seed=RANDOM_SEED)\n",
    "    val_gen = train_datagen.flow_from_dataframe(valid, \n",
    "                                            target_size=(150,150), x_col = 'filepaths', y_col ='labels', \n",
    "                                            class_mode='binary',\n",
    "                                            batch_size= 16, shuffle=True,seed=RANDOM_SEED)\n",
    "    test_gen = test_datagen.flow_from_dataframe(test,\n",
    "                                            target_size = (150,150), x_col = 'filepaths', y_col ='labels',\n",
    "                                             class_mode = 'binary',\n",
    "                                            batch_size = 16, shuffle = False,seed=RANDOM_SEED)\n",
    "    \n",
    "    return [train_gen,val_gen,test_gen]"
   ]
  },
  {
   "cell_type": "markdown",
   "id": "72f04e0f-5184-4a7c-80df-a7bed76882b3",
   "metadata": {
    "tags": []
   },
   "source": [
    "### <a id=\"conv\"> 5. Convolutional Nueral Network </a>"
   ]
  },
  {
   "cell_type": "code",
   "execution_count": 19,
   "id": "c3f61f00-ecd2-4243-bda3-4e38eab7158c",
   "metadata": {},
   "outputs": [],
   "source": [
    "def imgnet_model(train_gen,val_gen,model_name):\n",
    "    base_model = tf.keras.applications.InceptionResNetV2(weights='imagenet', input_shape = (200,200,3),include_top=False)\n",
    "    \n",
    "    model = Sequential()\n",
    "    model.add(base_model)\n",
    "    model.add(GlobalAveragePooling2D())\n",
    "    model.add(Dense(128, activation = 'relu'))\n",
    "    model.add(BatchNormalization())\n",
    "    model.add(Dropout(0.2))\n",
    "    model.add(Dense(1, activation = 'sigmoid'))\n",
    "    model.summary()\n",
    "    \n",
    "    callbacks = [\n",
    "    tf.keras.callbacks.ModelCheckpoint(model_name, save_best_only=True, verbose = 0),\n",
    "    tf.keras.callbacks.EarlyStopping(patience=6, monitor='val_accuracy', mode='max',verbose=1)]\n",
    "\n",
    "    model.compile(loss='binary_crossentropy', optimizer=Adam(learning_rate = 0.0001), metrics=['accuracy'])\n",
    "\n",
    "    history = model.fit(train_gen, validation_data = val_gen, epochs = 40, callbacks = [callbacks], verbose = 1)\n",
    "    \n",
    "    return [model,history]   "
   ]
  },
  {
   "cell_type": "code",
   "execution_count": 20,
   "id": "f06bf17c-f0b1-4aa6-a76d-b583fb8c1048",
   "metadata": {},
   "outputs": [],
   "source": [
    "def model_performance(history):\n",
    "    # plot model performance\n",
    "    acc = history.history['accuracy']\n",
    "    val_acc = history.history['val_accuracy']\n",
    "    loss = history.history['loss']\n",
    "    val_loss = history.history['val_loss']\n",
    "    epochs_range = range(1, len(history.epoch) + 1)\n",
    "\n",
    "    plt.figure(figsize=(15,5))\n",
    "\n",
    "    plt.subplot(1, 2, 1)\n",
    "    plt.plot(epochs_range, acc, label='Train Set')\n",
    "    plt.plot(epochs_range, val_acc, label='Val Set')\n",
    "    plt.legend(loc=\"best\")\n",
    "    plt.xlabel('Epochs')\n",
    "    plt.ylabel('Accuracy')\n",
    "    plt.title('Model Accuracy')\n",
    "\n",
    "    plt.subplot(1, 2, 2)\n",
    "    plt.plot(epochs_range, loss, label='Train Set')\n",
    "    plt.plot(epochs_range, val_loss, label='Val Set')\n",
    "    plt.legend(loc=\"best\")\n",
    "    plt.xlabel('Epochs')\n",
    "    plt.ylabel('Loss')\n",
    "    plt.title('Model Loss')\n",
    "\n",
    "    plt.tight_layout()\n",
    "    plt.show()"
   ]
  },
  {
   "cell_type": "code",
   "execution_count": 21,
   "id": "fc798eec-838d-4f41-a58f-5cac6a592222",
   "metadata": {},
   "outputs": [],
   "source": [
    "from sklearn.metrics import accuracy_score,confusion_matrix,classification_report,ConfusionMatrixDisplay\n",
    "\n",
    "def model_report(model,test_gen):\n",
    "    predictions = model.predict(test_gen)\n",
    "    predictions = [1 if x>0.5 else 0 for x in predictions]\n",
    "    \n",
    "\n",
    "    accuracy = accuracy_score(test_gen.classes, predictions)\n",
    "    print('Val Accuracy = ' , accuracy)\n",
    "\n",
    "    print(classification_report(test_gen.classes, predictions))\n",
    "    \n",
    "    cm = confusion_matrix(test_gen.classes, predictions) \n",
    "    disp = ConfusionMatrixDisplay(confusion_matrix=cm)\n",
    "    disp.plot()\n",
    "    plt.show()"
   ]
  },
  {
   "cell_type": "markdown",
   "id": "5e003844-f22f-4771-9862-acb358685b21",
   "metadata": {
    "tags": []
   },
   "source": [
    "### <a id = \"train\"> 6. Training </a>"
   ]
  },
  {
   "cell_type": "markdown",
   "id": "42771aa1-f6f2-4be2-a998-79bc2e556a8b",
   "metadata": {
    "tags": []
   },
   "source": [
    "### <a id = \"1\"> 6.1 Without Preprocessing </a>"
   ]
  },
  {
   "cell_type": "code",
   "execution_count": 27,
   "id": "23ad8722-5156-4d83-a61a-a077c9c6de3c",
   "metadata": {},
   "outputs": [],
   "source": [
    "processes1 = []"
   ]
  },
  {
   "cell_type": "code",
   "execution_count": 28,
   "id": "b62641e4-9f35-411c-8e1a-8d66d2f34669",
   "metadata": {},
   "outputs": [],
   "source": [
    "def preprocess_wrapper1(img):\n",
    "    return preprocess_pipeline(processes1,img)"
   ]
  },
  {
   "cell_type": "code",
   "execution_count": 29,
   "id": "75d3a2ff-82cf-49ef-9480-fdd940e9676f",
   "metadata": {},
   "outputs": [
    {
     "name": "stdout",
     "output_type": "stream",
     "text": [
      "Found 161 validated image filenames belonging to 2 classes.\n",
      "Found 41 validated image filenames belonging to 2 classes.\n",
      "Found 51 validated image filenames belonging to 2 classes.\n",
      "Model: \"sequential_1\"\n",
      "_________________________________________________________________\n",
      "Layer (type)                 Output Shape              Param #   \n",
      "=================================================================\n",
      "inception_resnet_v2 (Functio (None, 4, 4, 1536)        54336736  \n",
      "_________________________________________________________________\n",
      "global_average_pooling2d_1 ( (None, 1536)              0         \n",
      "_________________________________________________________________\n",
      "dense_2 (Dense)              (None, 128)               196736    \n",
      "_________________________________________________________________\n",
      "batch_normalization_407 (Bat (None, 128)               512       \n",
      "_________________________________________________________________\n",
      "dropout_1 (Dropout)          (None, 128)               0         \n",
      "_________________________________________________________________\n",
      "dense_3 (Dense)              (None, 1)                 129       \n",
      "=================================================================\n",
      "Total params: 54,534,113\n",
      "Trainable params: 54,473,313\n",
      "Non-trainable params: 60,800\n",
      "_________________________________________________________________\n",
      "Epoch 1/40\n",
      "11/11 [==============================] - 21s 657ms/step - loss: 0.8301 - accuracy: 0.6335 - val_loss: 0.9700 - val_accuracy: 0.5366\n",
      "Epoch 2/40\n",
      "11/11 [==============================] - 5s 425ms/step - loss: 0.4658 - accuracy: 0.7702 - val_loss: 0.8031 - val_accuracy: 0.5610\n",
      "Epoch 3/40\n",
      "11/11 [==============================] - 5s 429ms/step - loss: 0.3144 - accuracy: 0.8820 - val_loss: 0.5506 - val_accuracy: 0.6585\n",
      "Epoch 4/40\n",
      "11/11 [==============================] - 5s 454ms/step - loss: 0.2194 - accuracy: 0.9193 - val_loss: 0.4192 - val_accuracy: 0.7561\n",
      "Epoch 5/40\n",
      "11/11 [==============================] - 5s 430ms/step - loss: 0.2107 - accuracy: 0.9006 - val_loss: 0.5267 - val_accuracy: 0.7561\n",
      "Epoch 6/40\n",
      "11/11 [==============================] - 5s 422ms/step - loss: 0.1799 - accuracy: 0.9317 - val_loss: 0.4280 - val_accuracy: 0.8293\n",
      "Epoch 7/40\n",
      "11/11 [==============================] - 5s 415ms/step - loss: 0.1239 - accuracy: 0.9503 - val_loss: 0.3739 - val_accuracy: 0.8537\n",
      "Epoch 8/40\n",
      "11/11 [==============================] - 5s 426ms/step - loss: 0.1816 - accuracy: 0.9379 - val_loss: 0.3280 - val_accuracy: 0.9268\n",
      "Epoch 9/40\n",
      "11/11 [==============================] - 5s 415ms/step - loss: 0.1111 - accuracy: 0.9627 - val_loss: 0.3228 - val_accuracy: 0.8780\n",
      "Epoch 10/40\n",
      "11/11 [==============================] - 5s 419ms/step - loss: 0.1068 - accuracy: 0.9565 - val_loss: 0.2844 - val_accuracy: 0.9268\n",
      "Epoch 11/40\n",
      "11/11 [==============================] - 5s 403ms/step - loss: 0.0497 - accuracy: 1.0000 - val_loss: 0.2363 - val_accuracy: 0.9268\n",
      "Epoch 12/40\n",
      "11/11 [==============================] - 5s 404ms/step - loss: 0.0690 - accuracy: 0.9752 - val_loss: 0.2818 - val_accuracy: 0.9024\n",
      "Epoch 00012: early stopping\n"
     ]
    }
   ],
   "source": [
    "train_gen1,val_gen1,test_gen1 = data_aug(preprocess_wrapper1)\n",
    "model1,history1 = imgnet_model(train_gen1,val_gen1,'model/model1.h5')"
   ]
  },
  {
   "cell_type": "code",
   "execution_count": null,
   "id": "0270910d-19a6-4ba4-83e4-edfa4a45549e",
   "metadata": {},
   "outputs": [],
   "source": [
    "model_performance(history1)"
   ]
  },
  {
   "cell_type": "code",
   "execution_count": 31,
   "id": "bdba0f86-3b14-407b-a249-8fa3f7236eb9",
   "metadata": {},
   "outputs": [
    {
     "name": "stdout",
     "output_type": "stream",
     "text": [
      "Val Accuracy =  0.9411764705882353\n",
      "              precision    recall  f1-score   support\n",
      "\n",
      "           0       0.83      1.00      0.91        15\n",
      "           1       1.00      0.92      0.96        36\n",
      "\n",
      "    accuracy                           0.94        51\n",
      "   macro avg       0.92      0.96      0.93        51\n",
      "weighted avg       0.95      0.94      0.94        51\n",
      "\n"
     ]
    },
    {
     "data": {
      "image/png": "[encoded data removed]",
      "text/plain": [
       "<Figure size 432x288 with 2 Axes>"
      ]
     },
     "metadata": {
      "needs_background": "light"
     },
     "output_type": "display_data"
    }
   ],
   "source": [
    "model_report(model1,test_gen1)"
   ]
  },
  {
   "cell_type": "markdown",
   "id": "1f7201e4-3a52-47bc-9d46-fef0b0a39121",
   "metadata": {
    "tags": []
   },
   "source": [
    "### <a id = \"2\"> 6.2 Only with Histogram equalization </a> "
   ]
  },
  {
   "cell_type": "code",
   "execution_count": 26,
   "id": "757b86f8-8417-4c5b-bcb7-8a109af5df27",
   "metadata": {},
   "outputs": [],
   "source": [
    "processes2 = ['histogram equalization']"
   ]
  },
  {
   "cell_type": "code",
   "execution_count": 27,
   "id": "efd27258-4cc6-43f3-8a82-41f7b53963ff",
   "metadata": {},
   "outputs": [],
   "source": [
    "def preprocess_wrapper2(img):\n",
    "    return preprocess_pipeline(processes2,img)"
   ]
  },
  {
   "cell_type": "code",
   "execution_count": 28,
   "id": "06277fa2-4d0a-4b20-986e-985ad04fe525",
   "metadata": {},
   "outputs": [
    {
     "name": "stdout",
     "output_type": "stream",
     "text": [
      "Found 161 validated image filenames belonging to 2 classes.\n",
      "Found 41 validated image filenames belonging to 2 classes.\n",
      "Found 51 validated image filenames belonging to 2 classes.\n",
      "Model: \"sequential_1\"\n",
      "_________________________________________________________________\n",
      "Layer (type)                 Output Shape              Param #   \n",
      "=================================================================\n",
      "inception_resnet_v2 (Functio (None, 4, 4, 1536)        54336736  \n",
      "_________________________________________________________________\n",
      "global_average_pooling2d_1 ( (None, 1536)              0         \n",
      "_________________________________________________________________\n",
      "dense_2 (Dense)              (None, 128)               196736    \n",
      "_________________________________________________________________\n",
      "batch_normalization_407 (Bat (None, 128)               512       \n",
      "_________________________________________________________________\n",
      "dropout_1 (Dropout)          (None, 128)               0         \n",
      "_________________________________________________________________\n",
      "dense_3 (Dense)              (None, 1)                 129       \n",
      "=================================================================\n",
      "Total params: 54,534,113\n",
      "Trainable params: 54,473,313\n",
      "Non-trainable params: 60,800\n",
      "_________________________________________________________________\n",
      "Epoch 1/40\n",
      "11/11 [==============================] - 20s 689ms/step - loss: 0.6532 - accuracy: 0.6398 - val_loss: 0.6931 - val_accuracy: 0.5122\n",
      "Epoch 2/40\n",
      "11/11 [==============================] - 5s 442ms/step - loss: 0.4436 - accuracy: 0.7888 - val_loss: 0.6929 - val_accuracy: 0.5122\n",
      "Epoch 3/40\n",
      "11/11 [==============================] - 5s 424ms/step - loss: 0.2501 - accuracy: 0.8820 - val_loss: 0.6937 - val_accuracy: 0.4878\n",
      "Epoch 4/40\n",
      "11/11 [==============================] - 5s 434ms/step - loss: 0.3006 - accuracy: 0.8758 - val_loss: 0.7018 - val_accuracy: 0.4878\n",
      "Epoch 5/40\n",
      "11/11 [==============================] - 5s 448ms/step - loss: 0.2017 - accuracy: 0.9317 - val_loss: 0.6993 - val_accuracy: 0.4878\n",
      "Epoch 00005: early stopping\n"
     ]
    }
   ],
   "source": [
    "train_gen2,val_gen2,test_gen2 = data_aug(preprocess_wrapper2)\n",
    "model2,history2 = imgnet_model(train_gen2,val_gen2,'model/model2.h5')"
   ]
  },
  {
   "cell_type": "code",
   "execution_count": null,
   "id": "4cb4b591-eb80-4d1e-a83c-a4e5140bfd61",
   "metadata": {},
   "outputs": [],
   "source": [
    "model_performance(history2)"
   ]
  },
  {
   "cell_type": "code",
   "execution_count": 30,
   "id": "2a458d55-9f28-48cd-aba9-7d615b563af5",
   "metadata": {},
   "outputs": [
    {
     "name": "stdout",
     "output_type": "stream",
     "text": [
      "Val Accuracy =  0.29411764705882354\n",
      "              precision    recall  f1-score   support\n",
      "\n",
      "           0       0.29      1.00      0.45        15\n",
      "           1       0.00      0.00      0.00        36\n",
      "\n",
      "    accuracy                           0.29        51\n",
      "   macro avg       0.15      0.50      0.23        51\n",
      "weighted avg       0.09      0.29      0.13        51\n",
      "\n"
     ]
    },
    {
     "data": {
      "image/png": "[encoded data removed]",
      "text/plain": [
       "<Figure size 432x288 with 2 Axes>"
      ]
     },
     "metadata": {
      "needs_background": "light"
     },
     "output_type": "display_data"
    }
   ],
   "source": [
    "model_report(model2,test_gen2)"
   ]
  },
  {
   "cell_type": "markdown",
   "id": "3fe96d25-4c29-4f92-84d9-334787993c02",
   "metadata": {
    "tags": []
   },
   "source": [
    "### <a id = \"3\"> 6.3 Only with CLAHE </a>  "
   ]
  },
  {
   "cell_type": "code",
   "execution_count": 44,
   "id": "1e64da0f-c20e-4d93-8a7a-44daf3fb2543",
   "metadata": {},
   "outputs": [],
   "source": [
    "processes3 = ['clahe']"
   ]
  },
  {
   "cell_type": "code",
   "execution_count": 45,
   "id": "5f8f8a04-c5a9-4ff1-afd4-2fbca0d9bee3",
   "metadata": {},
   "outputs": [],
   "source": [
    "def preprocess_wrapper3(img):\n",
    "    return preprocess_pipeline(processes3,img)"
   ]
  },
  {
   "cell_type": "code",
   "execution_count": 46,
   "id": "24244056-2182-4db7-9025-832d93e8daad",
   "metadata": {},
   "outputs": [
    {
     "name": "stdout",
     "output_type": "stream",
     "text": [
      "Found 161 validated image filenames belonging to 2 classes.\n",
      "Found 41 validated image filenames belonging to 2 classes.\n",
      "Found 51 validated image filenames belonging to 2 classes.\n",
      "Model: \"sequential_4\"\n",
      "_________________________________________________________________\n",
      "Layer (type)                 Output Shape              Param #   \n",
      "=================================================================\n",
      "inception_resnet_v2 (Functio (None, 4, 4, 1536)        54336736  \n",
      "_________________________________________________________________\n",
      "global_average_pooling2d_4 ( (None, 1536)              0         \n",
      "_________________________________________________________________\n",
      "dense_8 (Dense)              (None, 128)               196736    \n",
      "_________________________________________________________________\n",
      "batch_normalization_1019 (Ba (None, 128)               512       \n",
      "_________________________________________________________________\n",
      "dropout_4 (Dropout)          (None, 128)               0         \n",
      "_________________________________________________________________\n",
      "dense_9 (Dense)              (None, 1)                 129       \n",
      "=================================================================\n",
      "Total params: 54,534,113\n",
      "Trainable params: 54,473,313\n",
      "Non-trainable params: 60,800\n",
      "_________________________________________________________________\n",
      "Epoch 1/40\n",
      "11/11 [==============================] - 23s 830ms/step - loss: 0.7537 - accuracy: 0.5776 - val_loss: 0.7380 - val_accuracy: 0.6098\n",
      "Epoch 2/40\n",
      "11/11 [==============================] - 6s 553ms/step - loss: 0.4582 - accuracy: 0.7764 - val_loss: 0.6355 - val_accuracy: 0.6585\n",
      "Epoch 3/40\n",
      "11/11 [==============================] - 6s 547ms/step - loss: 0.3537 - accuracy: 0.8199 - val_loss: 0.4422 - val_accuracy: 0.8049\n",
      "Epoch 4/40\n",
      "11/11 [==============================] - 6s 535ms/step - loss: 0.2631 - accuracy: 0.8820 - val_loss: 0.4479 - val_accuracy: 0.7317\n",
      "Epoch 5/40\n",
      "11/11 [==============================] - 6s 555ms/step - loss: 0.3418 - accuracy: 0.8571 - val_loss: 0.4314 - val_accuracy: 0.7805\n",
      "Epoch 6/40\n",
      "11/11 [==============================] - 6s 594ms/step - loss: 0.2223 - accuracy: 0.9130 - val_loss: 0.3788 - val_accuracy: 0.8293\n",
      "Epoch 7/40\n",
      "11/11 [==============================] - 6s 581ms/step - loss: 0.1832 - accuracy: 0.9441 - val_loss: 0.3873 - val_accuracy: 0.8293\n",
      "Epoch 8/40\n",
      "11/11 [==============================] - 6s 588ms/step - loss: 0.1403 - accuracy: 0.9503 - val_loss: 0.2712 - val_accuracy: 0.8537\n",
      "Epoch 9/40\n",
      "11/11 [==============================] - 17s 1s/step - loss: 0.0655 - accuracy: 0.9752 - val_loss: 0.3577 - val_accuracy: 0.8293\n",
      "Epoch 10/40\n",
      "11/11 [==============================] - 17s 2s/step - loss: 0.1086 - accuracy: 0.9503 - val_loss: 0.3398 - val_accuracy: 0.8537\n",
      "Epoch 11/40\n",
      "11/11 [==============================] - 16s 1s/step - loss: 0.1060 - accuracy: 0.9441 - val_loss: 0.2642 - val_accuracy: 0.8537\n",
      "Epoch 12/40\n",
      "11/11 [==============================] - 17s 2s/step - loss: 0.1302 - accuracy: 0.9441 - val_loss: 0.2029 - val_accuracy: 0.9268\n",
      "Epoch 13/40\n",
      "11/11 [==============================] - 16s 1s/step - loss: 0.1571 - accuracy: 0.9379 - val_loss: 0.3187 - val_accuracy: 0.8537\n",
      "Epoch 14/40\n",
      "11/11 [==============================] - 17s 2s/step - loss: 0.0600 - accuracy: 0.9814 - val_loss: 0.2223 - val_accuracy: 0.9512\n",
      "Epoch 15/40\n",
      "11/11 [==============================] - 16s 1s/step - loss: 0.1467 - accuracy: 0.9503 - val_loss: 0.2647 - val_accuracy: 0.9024\n",
      "Epoch 16/40\n",
      "11/11 [==============================] - 18s 2s/step - loss: 0.0490 - accuracy: 0.9938 - val_loss: 0.2595 - val_accuracy: 0.9024\n",
      "Epoch 17/40\n",
      "11/11 [==============================] - 17s 2s/step - loss: 0.1299 - accuracy: 0.9752 - val_loss: 0.2913 - val_accuracy: 0.8780\n",
      "Epoch 18/40\n",
      "11/11 [==============================] - 16s 2s/step - loss: 0.0943 - accuracy: 0.9752 - val_loss: 0.1649 - val_accuracy: 0.9756\n",
      "Epoch 19/40\n",
      "11/11 [==============================] - 16s 2s/step - loss: 0.1048 - accuracy: 0.9627 - val_loss: 0.1846 - val_accuracy: 0.9756\n",
      "Epoch 20/40\n",
      "11/11 [==============================] - 22s 2s/step - loss: 0.0289 - accuracy: 1.0000 - val_loss: 0.2694 - val_accuracy: 0.9268\n",
      "Epoch 21/40\n",
      "11/11 [==============================] - 18s 2s/step - loss: 0.0509 - accuracy: 0.9814 - val_loss: 0.1681 - val_accuracy: 0.9512\n",
      "Epoch 22/40\n",
      "11/11 [==============================] - 16s 1s/step - loss: 0.0491 - accuracy: 0.9565 - val_loss: 0.1648 - val_accuracy: 0.9512\n",
      "Epoch 23/40\n",
      "11/11 [==============================] - 17s 2s/step - loss: 0.0317 - accuracy: 0.9938 - val_loss: 0.2241 - val_accuracy: 0.9024\n",
      "Epoch 24/40\n",
      "11/11 [==============================] - 16s 1s/step - loss: 0.0870 - accuracy: 0.9627 - val_loss: 0.1843 - val_accuracy: 0.9512\n",
      "Epoch 00024: early stopping\n"
     ]
    }
   ],
   "source": [
    "train_gen3,val_gen3,test_gen3 = data_aug(preprocess_wrapper3)\n",
    "model3,history3 = imgnet_model(train_gen3,val_gen3,'model/model3.h5')"
   ]
  },
  {
   "cell_type": "code",
   "execution_count": null,
   "id": "b50dcfe8-f6d9-4764-baf9-c698b9f72176",
   "metadata": {},
   "outputs": [],
   "source": [
    "model_performance(history3)"
   ]
  },
  {
   "cell_type": "code",
   "execution_count": 48,
   "id": "48425aa4-1c29-4fbb-90a6-96b42c41002f",
   "metadata": {},
   "outputs": [
    {
     "name": "stdout",
     "output_type": "stream",
     "text": [
      "Val Accuracy =  0.8823529411764706\n",
      "              precision    recall  f1-score   support\n",
      "\n",
      "           0       0.74      0.93      0.82        15\n",
      "           1       0.97      0.86      0.91        36\n",
      "\n",
      "    accuracy                           0.88        51\n",
      "   macro avg       0.85      0.90      0.87        51\n",
      "weighted avg       0.90      0.88      0.89        51\n",
      "\n"
     ]
    },
    {
     "data": {
      "image/png": "[encoded data removed]",
      "text/plain": [
       "<Figure size 432x288 with 2 Axes>"
      ]
     },
     "metadata": {
      "needs_background": "light"
     },
     "output_type": "display_data"
    }
   ],
   "source": [
    "model_report(model3,test_gen3)"
   ]
  },
  {
   "cell_type": "markdown",
   "id": "a7d9bb16-191a-432d-87ff-c6515b44db41",
   "metadata": {
    "tags": []
   },
   "source": [
    "### <a id = \"4\"> 6.4 Only with Median filter </a>   "
   ]
  },
  {
   "cell_type": "code",
   "execution_count": 21,
   "id": "791550be-a2f4-457c-8a6e-9e79fe8a6f28",
   "metadata": {},
   "outputs": [],
   "source": [
    "processes4 = ['median filter']"
   ]
  },
  {
   "cell_type": "code",
   "execution_count": 22,
   "id": "f32af29f-7e76-4767-9e3a-6bd1edb61b67",
   "metadata": {},
   "outputs": [],
   "source": [
    "def preprocess_wrapper4(img):\n",
    "    return preprocess_pipeline(processes4,img)"
   ]
  },
  {
   "cell_type": "code",
   "execution_count": 23,
   "id": "9d74d419-31f3-4a9c-8e38-b81a3478fec9",
   "metadata": {},
   "outputs": [
    {
     "name": "stdout",
     "output_type": "stream",
     "text": [
      "Found 161 validated image filenames belonging to 2 classes.\n",
      "Found 41 validated image filenames belonging to 2 classes.\n",
      "Found 51 validated image filenames belonging to 2 classes.\n",
      "Model: \"sequential\"\n",
      "_________________________________________________________________\n",
      "Layer (type)                 Output Shape              Param #   \n",
      "=================================================================\n",
      "inception_resnet_v2 (Functio (None, 4, 4, 1536)        54336736  \n",
      "_________________________________________________________________\n",
      "global_average_pooling2d (Gl (None, 1536)              0         \n",
      "_________________________________________________________________\n",
      "dense (Dense)                (None, 128)               196736    \n",
      "_________________________________________________________________\n",
      "batch_normalization_203 (Bat (None, 128)               512       \n",
      "_________________________________________________________________\n",
      "dropout (Dropout)            (None, 128)               0         \n",
      "_________________________________________________________________\n",
      "dense_1 (Dense)              (None, 1)                 129       \n",
      "=================================================================\n",
      "Total params: 54,534,113\n",
      "Trainable params: 54,473,313\n",
      "Non-trainable params: 60,800\n",
      "_________________________________________________________________\n",
      "Epoch 1/40\n",
      "11/11 [==============================] - 44s 2s/step - loss: 0.6812 - accuracy: 0.6584 - val_loss: 0.6049 - val_accuracy: 0.7073\n",
      "Epoch 2/40\n",
      "11/11 [==============================] - 13s 1s/step - loss: 0.4517 - accuracy: 0.7888 - val_loss: 0.4646 - val_accuracy: 0.7317\n",
      "Epoch 3/40\n",
      "11/11 [==============================] - 14s 1s/step - loss: 0.3681 - accuracy: 0.8696 - val_loss: 0.4299 - val_accuracy: 0.8780\n",
      "Epoch 4/40\n",
      "11/11 [==============================] - 14s 1s/step - loss: 0.2848 - accuracy: 0.8944 - val_loss: 0.4141 - val_accuracy: 0.8537\n",
      "Epoch 5/40\n",
      "11/11 [==============================] - 16s 1s/step - loss: 0.2423 - accuracy: 0.9255 - val_loss: 0.4003 - val_accuracy: 0.7805\n",
      "Epoch 6/40\n",
      "11/11 [==============================] - 13s 1s/step - loss: 0.2448 - accuracy: 0.9130 - val_loss: 0.4027 - val_accuracy: 0.8049\n",
      "Epoch 7/40\n",
      "11/11 [==============================] - 15s 1s/step - loss: 0.1400 - accuracy: 0.9627 - val_loss: 0.3314 - val_accuracy: 0.8537\n",
      "Epoch 8/40\n",
      "11/11 [==============================] - 16s 1s/step - loss: 0.2312 - accuracy: 0.9379 - val_loss: 0.3634 - val_accuracy: 0.8537\n",
      "Epoch 9/40\n",
      "11/11 [==============================] - 14s 1s/step - loss: 0.1550 - accuracy: 0.9317 - val_loss: 0.3410 - val_accuracy: 0.7805\n",
      "Epoch 00009: early stopping\n"
     ]
    }
   ],
   "source": [
    "train_gen4,val_gen4,test_gen4 = data_aug(preprocess_wrapper4)\n",
    "model4,history4 = imgnet_model(train_gen4,val_gen4,'model/model4.h5')"
   ]
  },
  {
   "cell_type": "code",
   "execution_count": null,
   "id": "d01f9ad3-e70f-4070-a8ce-d4292db44bad",
   "metadata": {},
   "outputs": [],
   "source": [
    "model_performance(history4)"
   ]
  },
  {
   "cell_type": "code",
   "execution_count": 25,
   "id": "4f0ab6ac-1770-4b16-bb54-0384204a05e4",
   "metadata": {},
   "outputs": [
    {
     "name": "stdout",
     "output_type": "stream",
     "text": [
      "Val Accuracy =  0.9215686274509803\n",
      "              precision    recall  f1-score   support\n",
      "\n",
      "           0       0.92      0.80      0.86        15\n",
      "           1       0.92      0.97      0.95        36\n",
      "\n",
      "    accuracy                           0.92        51\n",
      "   macro avg       0.92      0.89      0.90        51\n",
      "weighted avg       0.92      0.92      0.92        51\n",
      "\n"
     ]
    },
    {
     "data": {
      "image/png": "[encoded data removed]",
      "text/plain": [
       "<Figure size 432x288 with 2 Axes>"
      ]
     },
     "metadata": {
      "needs_background": "light"
     },
     "output_type": "display_data"
    }
   ],
   "source": [
    "model_report(model4,test_gen4)"
   ]
  },
  {
   "cell_type": "markdown",
   "id": "924ebe6f-c45f-467f-a01a-2f2de54da376",
   "metadata": {
    "tags": []
   },
   "source": [
    "### <a id = \"5\"> 6.5 Only with Gaussian filter </a>    "
   ]
  },
  {
   "cell_type": "code",
   "execution_count": 26,
   "id": "1fc9a15c-0e8b-4574-b61a-8f06fb7eff27",
   "metadata": {},
   "outputs": [],
   "source": [
    "processes5 = ['gaussian filter']"
   ]
  },
  {
   "cell_type": "code",
   "execution_count": 27,
   "id": "c13a7765-bd6a-43b3-bc34-5ab4d11b8a90",
   "metadata": {},
   "outputs": [],
   "source": [
    "def preprocess_wrapper5(img):\n",
    "    return preprocess_pipeline(processes5,img)"
   ]
  },
  {
   "cell_type": "code",
   "execution_count": 28,
   "id": "fd1385b8-8a8d-4b5e-b2ee-315279faf890",
   "metadata": {},
   "outputs": [
    {
     "name": "stdout",
     "output_type": "stream",
     "text": [
      "Found 161 validated image filenames belonging to 2 classes.\n",
      "Found 41 validated image filenames belonging to 2 classes.\n",
      "Found 51 validated image filenames belonging to 2 classes.\n",
      "Model: \"sequential_1\"\n",
      "_________________________________________________________________\n",
      "Layer (type)                 Output Shape              Param #   \n",
      "=================================================================\n",
      "inception_resnet_v2 (Functio (None, 4, 4, 1536)        54336736  \n",
      "_________________________________________________________________\n",
      "global_average_pooling2d_1 ( (None, 1536)              0         \n",
      "_________________________________________________________________\n",
      "dense_2 (Dense)              (None, 128)               196736    \n",
      "_________________________________________________________________\n",
      "batch_normalization_407 (Bat (None, 128)               512       \n",
      "_________________________________________________________________\n",
      "dropout_1 (Dropout)          (None, 128)               0         \n",
      "_________________________________________________________________\n",
      "dense_3 (Dense)              (None, 1)                 129       \n",
      "=================================================================\n",
      "Total params: 54,534,113\n",
      "Trainable params: 54,473,313\n",
      "Non-trainable params: 60,800\n",
      "_________________________________________________________________\n",
      "Epoch 1/40\n",
      "11/11 [==============================] - 28s 1s/step - loss: 0.8363 - accuracy: 0.5217 - val_loss: 0.7587 - val_accuracy: 0.5366\n",
      "Epoch 2/40\n",
      "11/11 [==============================] - 13s 1s/step - loss: 0.4424 - accuracy: 0.8075 - val_loss: 0.5380 - val_accuracy: 0.7073\n",
      "Epoch 3/40\n",
      "11/11 [==============================] - 14s 1s/step - loss: 0.3461 - accuracy: 0.8634 - val_loss: 0.4217 - val_accuracy: 0.8780\n",
      "Epoch 4/40\n",
      "11/11 [==============================] - 13s 1s/step - loss: 0.3659 - accuracy: 0.8758 - val_loss: 0.4155 - val_accuracy: 0.9024\n",
      "Epoch 5/40\n",
      "11/11 [==============================] - 14s 1s/step - loss: 0.1925 - accuracy: 0.9068 - val_loss: 0.3831 - val_accuracy: 0.8780\n",
      "Epoch 6/40\n",
      "11/11 [==============================] - 13s 1s/step - loss: 0.2315 - accuracy: 0.9006 - val_loss: 0.4123 - val_accuracy: 0.8293\n",
      "Epoch 7/40\n",
      "11/11 [==============================] - 15s 1s/step - loss: 0.1506 - accuracy: 0.9503 - val_loss: 0.3718 - val_accuracy: 0.8780\n",
      "Epoch 8/40\n",
      "11/11 [==============================] - 12s 1s/step - loss: 0.2084 - accuracy: 0.9193 - val_loss: 0.3229 - val_accuracy: 0.9268\n",
      "Epoch 9/40\n",
      "11/11 [==============================] - 13s 1s/step - loss: 0.1392 - accuracy: 0.9565 - val_loss: 0.2672 - val_accuracy: 0.9512\n",
      "Epoch 10/40\n",
      "11/11 [==============================] - 13s 1s/step - loss: 0.1539 - accuracy: 0.9130 - val_loss: 0.2443 - val_accuracy: 0.9268\n",
      "Epoch 11/40\n",
      "11/11 [==============================] - 13s 1s/step - loss: 0.1137 - accuracy: 0.9689 - val_loss: 0.2312 - val_accuracy: 0.9756\n",
      "Epoch 12/40\n",
      "11/11 [==============================] - 13s 1s/step - loss: 0.0620 - accuracy: 0.9938 - val_loss: 0.2529 - val_accuracy: 0.9512\n",
      "Epoch 13/40\n",
      "11/11 [==============================] - 14s 1s/step - loss: 0.0614 - accuracy: 0.9814 - val_loss: 0.2488 - val_accuracy: 0.9024\n",
      "Epoch 14/40\n",
      "11/11 [==============================] - 14s 1s/step - loss: 0.0682 - accuracy: 0.9814 - val_loss: 0.2309 - val_accuracy: 0.9024\n",
      "Epoch 15/40\n",
      "11/11 [==============================] - 13s 1s/step - loss: 0.0274 - accuracy: 0.9938 - val_loss: 0.2065 - val_accuracy: 0.9512\n",
      "Epoch 16/40\n",
      "11/11 [==============================] - 13s 1s/step - loss: 0.0883 - accuracy: 0.9752 - val_loss: 0.2082 - val_accuracy: 0.9024\n",
      "Epoch 17/40\n",
      "11/11 [==============================] - 14s 1s/step - loss: 0.0546 - accuracy: 0.9814 - val_loss: 0.1921 - val_accuracy: 0.9268\n",
      "Epoch 00017: early stopping\n"
     ]
    }
   ],
   "source": [
    "train_gen5,val_gen5,test_gen5 = data_aug(preprocess_wrapper5)\n",
    "model5,history5 = imgnet_model(train_gen5,val_gen5,'model/model5.h5')"
   ]
  },
  {
   "cell_type": "code",
   "execution_count": null,
   "id": "2ebaee89-c966-4f13-a8e5-5202f5637b2b",
   "metadata": {},
   "outputs": [],
   "source": [
    "model_performance(history5)"
   ]
  },
  {
   "cell_type": "code",
   "execution_count": 30,
   "id": "d9bec87c-2b80-4aa1-ae8f-484c79382cac",
   "metadata": {},
   "outputs": [
    {
     "name": "stdout",
     "output_type": "stream",
     "text": [
      "Val Accuracy =  0.9607843137254902\n",
      "              precision    recall  f1-score   support\n",
      "\n",
      "           0       0.88      1.00      0.94        15\n",
      "           1       1.00      0.94      0.97        36\n",
      "\n",
      "    accuracy                           0.96        51\n",
      "   macro avg       0.94      0.97      0.95        51\n",
      "weighted avg       0.97      0.96      0.96        51\n",
      "\n"
     ]
    },
    {
     "data": {
      "image/png": "[encoded data removed]",
      "text/plain": [
       "<Figure size 432x288 with 2 Axes>"
      ]
     },
     "metadata": {
      "needs_background": "light"
     },
     "output_type": "display_data"
    }
   ],
   "source": [
    "model_report(model5,test_gen5)"
   ]
  },
  {
   "cell_type": "markdown",
   "id": "9bd4e640-124b-4a6c-b934-226406a4fccb",
   "metadata": {
    "tags": []
   },
   "source": [
    "### <a id = \"6\"> 6.6 Only with Dilation </a>     "
   ]
  },
  {
   "cell_type": "code",
   "execution_count": 31,
   "id": "7d0edd2f-5fa2-44c9-9728-3d80bf97a7f4",
   "metadata": {},
   "outputs": [],
   "source": [
    "processes6 = ['dilation']"
   ]
  },
  {
   "cell_type": "code",
   "execution_count": 32,
   "id": "060a19c3-a0b5-4025-b687-9ef90198babd",
   "metadata": {},
   "outputs": [],
   "source": [
    "def preprocess_wrapper6(img):\n",
    "    return preprocess_pipeline(processes6,img)"
   ]
  },
  {
   "cell_type": "code",
   "execution_count": 33,
   "id": "1937e548-daf4-4009-9359-4223df887d85",
   "metadata": {},
   "outputs": [
    {
     "name": "stdout",
     "output_type": "stream",
     "text": [
      "Found 161 validated image filenames belonging to 2 classes.\n",
      "Found 41 validated image filenames belonging to 2 classes.\n",
      "Found 51 validated image filenames belonging to 2 classes.\n",
      "Model: \"sequential_2\"\n",
      "_________________________________________________________________\n",
      "Layer (type)                 Output Shape              Param #   \n",
      "=================================================================\n",
      "inception_resnet_v2 (Functio (None, 4, 4, 1536)        54336736  \n",
      "_________________________________________________________________\n",
      "global_average_pooling2d_2 ( (None, 1536)              0         \n",
      "_________________________________________________________________\n",
      "dense_4 (Dense)              (None, 128)               196736    \n",
      "_________________________________________________________________\n",
      "batch_normalization_611 (Bat (None, 128)               512       \n",
      "_________________________________________________________________\n",
      "dropout_2 (Dropout)          (None, 128)               0         \n",
      "_________________________________________________________________\n",
      "dense_5 (Dense)              (None, 1)                 129       \n",
      "=================================================================\n",
      "Total params: 54,534,113\n",
      "Trainable params: 54,473,313\n",
      "Non-trainable params: 60,800\n",
      "_________________________________________________________________\n",
      "Epoch 1/40\n",
      "11/11 [==============================] - 29s 2s/step - loss: 0.6664 - accuracy: 0.6584 - val_loss: 0.6436 - val_accuracy: 0.7317\n",
      "Epoch 2/40\n",
      "11/11 [==============================] - 13s 1s/step - loss: 0.4854 - accuracy: 0.7950 - val_loss: 0.5930 - val_accuracy: 0.7073\n",
      "Epoch 3/40\n",
      "11/11 [==============================] - 13s 1s/step - loss: 0.3079 - accuracy: 0.8696 - val_loss: 0.5297 - val_accuracy: 0.7561\n",
      "Epoch 4/40\n",
      "11/11 [==============================] - 13s 1s/step - loss: 0.2990 - accuracy: 0.9068 - val_loss: 0.5743 - val_accuracy: 0.8049\n",
      "Epoch 5/40\n",
      "11/11 [==============================] - 15s 1s/step - loss: 0.1912 - accuracy: 0.9379 - val_loss: 0.4421 - val_accuracy: 0.8293\n",
      "Epoch 6/40\n",
      "11/11 [==============================] - 15s 1s/step - loss: 0.2289 - accuracy: 0.9130 - val_loss: 0.5831 - val_accuracy: 0.7805\n",
      "Epoch 7/40\n",
      "11/11 [==============================] - 14s 1s/step - loss: 0.0989 - accuracy: 0.9689 - val_loss: 0.5355 - val_accuracy: 0.8293\n",
      "Epoch 8/40\n",
      "11/11 [==============================] - 14s 1s/step - loss: 0.2583 - accuracy: 0.9255 - val_loss: 0.4620 - val_accuracy: 0.8537\n",
      "Epoch 9/40\n",
      "11/11 [==============================] - 14s 1s/step - loss: 0.0991 - accuracy: 0.9814 - val_loss: 0.3699 - val_accuracy: 0.8293\n",
      "Epoch 10/40\n",
      "11/11 [==============================] - 14s 1s/step - loss: 0.1206 - accuracy: 0.9814 - val_loss: 0.3529 - val_accuracy: 0.8537\n",
      "Epoch 11/40\n",
      "11/11 [==============================] - 14s 1s/step - loss: 0.1305 - accuracy: 0.9503 - val_loss: 0.2993 - val_accuracy: 0.8780\n",
      "Epoch 12/40\n",
      "11/11 [==============================] - 13s 1s/step - loss: 0.0571 - accuracy: 0.9938 - val_loss: 0.3001 - val_accuracy: 0.8293\n",
      "Epoch 13/40\n",
      "11/11 [==============================] - 14s 1s/step - loss: 0.0566 - accuracy: 0.9938 - val_loss: 0.3166 - val_accuracy: 0.8780\n",
      "Epoch 14/40\n",
      "11/11 [==============================] - 14s 1s/step - loss: 0.0768 - accuracy: 0.9627 - val_loss: 0.2879 - val_accuracy: 0.9024\n",
      "Epoch 15/40\n",
      "11/11 [==============================] - 13s 1s/step - loss: 0.0357 - accuracy: 0.9876 - val_loss: 0.3286 - val_accuracy: 0.8780\n",
      "Epoch 16/40\n",
      "11/11 [==============================] - 14s 1s/step - loss: 0.1533 - accuracy: 0.9627 - val_loss: 0.4010 - val_accuracy: 0.8537\n",
      "Epoch 17/40\n",
      "11/11 [==============================] - 13s 1s/step - loss: 0.0513 - accuracy: 0.9876 - val_loss: 0.3108 - val_accuracy: 0.8537\n",
      "Epoch 18/40\n",
      "11/11 [==============================] - 13s 1s/step - loss: 0.0427 - accuracy: 0.9814 - val_loss: 0.4719 - val_accuracy: 0.8537\n",
      "Epoch 19/40\n",
      "11/11 [==============================] - 14s 1s/step - loss: 0.0348 - accuracy: 0.9876 - val_loss: 0.3967 - val_accuracy: 0.8780\n",
      "Epoch 20/40\n",
      "11/11 [==============================] - 14s 1s/step - loss: 0.0427 - accuracy: 0.9876 - val_loss: 0.3454 - val_accuracy: 0.8537\n",
      "Epoch 00020: early stopping\n"
     ]
    }
   ],
   "source": [
    "train_gen6,val_gen6,test_gen6 = data_aug(preprocess_wrapper6)\n",
    "model6,history6 = imgnet_model(train_gen6,val_gen6,'model/model6.h5')"
   ]
  },
  {
   "cell_type": "code",
   "execution_count": null,
   "id": "09d1f09a-3c0b-4105-a6c0-5d08e9fe7b65",
   "metadata": {},
   "outputs": [],
   "source": [
    "model_performance(history6)"
   ]
  },
  {
   "cell_type": "code",
   "execution_count": 35,
   "id": "628bc2c8-13bd-4a75-84ab-7ca869e8cf71",
   "metadata": {},
   "outputs": [
    {
     "name": "stdout",
     "output_type": "stream",
     "text": [
      "Val Accuracy =  0.9019607843137255\n",
      "              precision    recall  f1-score   support\n",
      "\n",
      "           0       0.75      1.00      0.86        15\n",
      "           1       1.00      0.86      0.93        36\n",
      "\n",
      "    accuracy                           0.90        51\n",
      "   macro avg       0.88      0.93      0.89        51\n",
      "weighted avg       0.93      0.90      0.91        51\n",
      "\n"
     ]
    },
    {
     "data": {
      "image/png": "[encoded data removed]",
      "text/plain": [
       "<Figure size 432x288 with 2 Axes>"
      ]
     },
     "metadata": {
      "needs_background": "light"
     },
     "output_type": "display_data"
    }
   ],
   "source": [
    "model_report(model6,test_gen6)"
   ]
  },
  {
   "cell_type": "markdown",
   "id": "2bf3ee63-fa6f-45f8-9652-e84b5f29b7aa",
   "metadata": {
    "tags": []
   },
   "source": [
    "### <a id = \"7\"> 6.7 Only with Erosion </a>"
   ]
  },
  {
   "cell_type": "code",
   "execution_count": null,
   "id": "a43b52f8-7c8e-44a8-befa-be4a18dca2dc",
   "metadata": {},
   "outputs": [],
   "source": [
    "processes7 = ['erosion']"
   ]
  },
  {
   "cell_type": "code",
   "execution_count": null,
   "id": "d072e75f-e413-43f0-b62e-d6787b259d4f",
   "metadata": {},
   "outputs": [],
   "source": [
    "def preprocess_wrapper7(img):\n",
    "    return preprocess_pipeline(processes7,img)"
   ]
  },
  {
   "cell_type": "code",
   "execution_count": 39,
   "id": "ae9a4881-6ebd-4092-a069-0ef71047c5c2",
   "metadata": {},
   "outputs": [
    {
     "name": "stdout",
     "output_type": "stream",
     "text": [
      "Found 161 validated image filenames belonging to 2 classes.\n",
      "Found 41 validated image filenames belonging to 2 classes.\n",
      "Found 51 validated image filenames belonging to 2 classes.\n",
      "Model: \"sequential_1\"\n",
      "_________________________________________________________________\n",
      "Layer (type)                 Output Shape              Param #   \n",
      "=================================================================\n",
      "inception_resnet_v2 (Functio (None, 4, 4, 1536)        54336736  \n",
      "_________________________________________________________________\n",
      "global_average_pooling2d_1 ( (None, 1536)              0         \n",
      "_________________________________________________________________\n",
      "dense_2 (Dense)              (None, 128)               196736    \n",
      "_________________________________________________________________\n",
      "batch_normalization_407 (Bat (None, 128)               512       \n",
      "_________________________________________________________________\n",
      "dropout_1 (Dropout)          (None, 128)               0         \n",
      "_________________________________________________________________\n",
      "dense_3 (Dense)              (None, 1)                 129       \n",
      "=================================================================\n",
      "Total params: 54,534,113\n",
      "Trainable params: 54,473,313\n",
      "Non-trainable params: 60,800\n",
      "_________________________________________________________________\n",
      "Epoch 1/40\n",
      "11/11 [==============================] - 23s 747ms/step - loss: 0.7095 - accuracy: 0.6273 - val_loss: 0.4971 - val_accuracy: 0.7805\n",
      "Epoch 2/40\n",
      "11/11 [==============================] - 5s 446ms/step - loss: 0.3960 - accuracy: 0.7950 - val_loss: 0.3842 - val_accuracy: 0.8049\n",
      "Epoch 3/40\n",
      "11/11 [==============================] - 5s 443ms/step - loss: 0.2599 - accuracy: 0.8820 - val_loss: 0.3023 - val_accuracy: 0.8780\n",
      "Epoch 4/40\n",
      "11/11 [==============================] - 5s 426ms/step - loss: 0.1733 - accuracy: 0.9379 - val_loss: 0.3171 - val_accuracy: 0.8049\n",
      "Epoch 5/40\n",
      "11/11 [==============================] - 5s 452ms/step - loss: 0.1449 - accuracy: 0.9503 - val_loss: 0.3438 - val_accuracy: 0.8537\n",
      "Epoch 6/40\n",
      "11/11 [==============================] - 5s 450ms/step - loss: 0.1492 - accuracy: 0.9503 - val_loss: 0.3326 - val_accuracy: 0.8537\n",
      "Epoch 7/40\n",
      "11/11 [==============================] - 5s 464ms/step - loss: 0.0938 - accuracy: 0.9689 - val_loss: 0.3781 - val_accuracy: 0.8293\n",
      "Epoch 8/40\n",
      "11/11 [==============================] - 5s 432ms/step - loss: 0.1177 - accuracy: 0.9441 - val_loss: 0.2811 - val_accuracy: 0.9024\n",
      "Epoch 9/40\n",
      "11/11 [==============================] - 5s 437ms/step - loss: 0.1129 - accuracy: 0.9627 - val_loss: 0.2201 - val_accuracy: 0.9512\n",
      "Epoch 10/40\n",
      "11/11 [==============================] - 5s 436ms/step - loss: 0.0975 - accuracy: 0.9689 - val_loss: 0.2452 - val_accuracy: 0.8780\n",
      "Epoch 11/40\n",
      "11/11 [==============================] - 5s 438ms/step - loss: 0.0783 - accuracy: 0.9627 - val_loss: 0.2556 - val_accuracy: 0.9268\n",
      "Epoch 12/40\n",
      "11/11 [==============================] - 5s 430ms/step - loss: 0.0361 - accuracy: 0.9938 - val_loss: 0.2562 - val_accuracy: 0.9024\n",
      "Epoch 13/40\n",
      "11/11 [==============================] - 5s 429ms/step - loss: 0.0631 - accuracy: 0.9752 - val_loss: 0.3618 - val_accuracy: 0.8537\n",
      "Epoch 14/40\n",
      "11/11 [==============================] - 5s 435ms/step - loss: 0.0320 - accuracy: 0.9938 - val_loss: 0.2666 - val_accuracy: 0.8537\n",
      "Epoch 15/40\n",
      "11/11 [==============================] - 5s 450ms/step - loss: 0.0254 - accuracy: 0.9876 - val_loss: 0.2252 - val_accuracy: 0.9024\n",
      "Epoch 00015: early stopping\n"
     ]
    }
   ],
   "source": [
    "train_gen7,val_gen7,test_gen7 = data_aug(preprocess_wrapper7)\n",
    "model7,history7 = imgnet_model(train_gen7,val_gen7,'model/model7.h5')"
   ]
  },
  {
   "cell_type": "code",
   "execution_count": null,
   "id": "f078047e-2cf0-48d1-a191-c83407cfe23b",
   "metadata": {},
   "outputs": [],
   "source": [
    "model_performance(history7)"
   ]
  },
  {
   "cell_type": "code",
   "execution_count": 41,
   "id": "5fc73f58-30cf-4681-9478-9fb8a90075b4",
   "metadata": {},
   "outputs": [
    {
     "name": "stdout",
     "output_type": "stream",
     "text": [
      "Val Accuracy =  0.9803921568627451\n",
      "              precision    recall  f1-score   support\n",
      "\n",
      "           0       1.00      0.93      0.97        15\n",
      "           1       0.97      1.00      0.99        36\n",
      "\n",
      "    accuracy                           0.98        51\n",
      "   macro avg       0.99      0.97      0.98        51\n",
      "weighted avg       0.98      0.98      0.98        51\n",
      "\n"
     ]
    },
    {
     "data": {
      "image/png": "[encoded data removed]",
      "text/plain": [
       "<Figure size 432x288 with 2 Axes>"
      ]
     },
     "metadata": {
      "needs_background": "light"
     },
     "output_type": "display_data"
    }
   ],
   "source": [
    "model_report(model7,test_gen7)"
   ]
  },
  {
   "cell_type": "markdown",
   "id": "e17eab15-9967-4e4c-89de-2262a21ed460",
   "metadata": {},
   "source": [
    "### <a id = \"8\"> 6.8 With Median filter + CLAHE </a> "
   ]
  },
  {
   "cell_type": "code",
   "execution_count": 26,
   "id": "e52ecf1b-3f0f-42b9-a98b-6a51e67b60e3",
   "metadata": {},
   "outputs": [],
   "source": [
    "processes8 = ['median filter','clahe']"
   ]
  },
  {
   "cell_type": "code",
   "execution_count": 27,
   "id": "58ea2f50-030f-4f64-9b8e-d6a77a2aadd4",
   "metadata": {},
   "outputs": [],
   "source": [
    "def preprocess_wrapper8(img):\n",
    "    return preprocess_pipeline(processes8,img)"
   ]
  },
  {
   "cell_type": "code",
   "execution_count": 28,
   "id": "a16ec3e3-ae8f-4235-93d4-212cc4120143",
   "metadata": {},
   "outputs": [
    {
     "name": "stdout",
     "output_type": "stream",
     "text": [
      "Found 161 validated image filenames belonging to 2 classes.\n",
      "Found 41 validated image filenames belonging to 2 classes.\n",
      "Found 51 validated image filenames belonging to 2 classes.\n",
      "Model: \"sequential_1\"\n",
      "_________________________________________________________________\n",
      "Layer (type)                 Output Shape              Param #   \n",
      "=================================================================\n",
      "inception_resnet_v2 (Functio (None, 4, 4, 1536)        54336736  \n",
      "_________________________________________________________________\n",
      "global_average_pooling2d_1 ( (None, 1536)              0         \n",
      "_________________________________________________________________\n",
      "dense_2 (Dense)              (None, 128)               196736    \n",
      "_________________________________________________________________\n",
      "batch_normalization_407 (Bat (None, 128)               512       \n",
      "_________________________________________________________________\n",
      "dropout_1 (Dropout)          (None, 128)               0         \n",
      "_________________________________________________________________\n",
      "dense_3 (Dense)              (None, 1)                 129       \n",
      "=================================================================\n",
      "Total params: 54,534,113\n",
      "Trainable params: 54,473,313\n",
      "Non-trainable params: 60,800\n",
      "_________________________________________________________________\n",
      "Epoch 1/40\n",
      "11/11 [==============================] - 26s 1s/step - loss: 0.7761 - accuracy: 0.6335 - val_loss: 1.1721 - val_accuracy: 0.4878\n",
      "Epoch 2/40\n",
      "11/11 [==============================] - 9s 784ms/step - loss: 0.4292 - accuracy: 0.8012 - val_loss: 1.0009 - val_accuracy: 0.5366\n",
      "Epoch 3/40\n",
      "11/11 [==============================] - 9s 809ms/step - loss: 0.3080 - accuracy: 0.8634 - val_loss: 0.7681 - val_accuracy: 0.6098\n",
      "Epoch 4/40\n",
      "11/11 [==============================] - 10s 914ms/step - loss: 0.2763 - accuracy: 0.9006 - val_loss: 0.6616 - val_accuracy: 0.6585\n",
      "Epoch 5/40\n",
      "11/11 [==============================] - 9s 856ms/step - loss: 0.2573 - accuracy: 0.9130 - val_loss: 0.9579 - val_accuracy: 0.5854\n",
      "Epoch 6/40\n",
      "11/11 [==============================] - 9s 840ms/step - loss: 0.2273 - accuracy: 0.9193 - val_loss: 0.5772 - val_accuracy: 0.7073\n",
      "Epoch 7/40\n",
      "11/11 [==============================] - 10s 841ms/step - loss: 0.1533 - accuracy: 0.9565 - val_loss: 0.4606 - val_accuracy: 0.7561\n",
      "Epoch 8/40\n",
      "11/11 [==============================] - 9s 793ms/step - loss: 0.2159 - accuracy: 0.8944 - val_loss: 0.5155 - val_accuracy: 0.7805\n",
      "Epoch 9/40\n",
      "11/11 [==============================] - 9s 842ms/step - loss: 0.0985 - accuracy: 0.9689 - val_loss: 0.4310 - val_accuracy: 0.8293\n",
      "Epoch 10/40\n",
      "11/11 [==============================] - 10s 837ms/step - loss: 0.0843 - accuracy: 0.9814 - val_loss: 0.3850 - val_accuracy: 0.7805\n",
      "Epoch 11/40\n",
      "11/11 [==============================] - 9s 808ms/step - loss: 0.0864 - accuracy: 0.9627 - val_loss: 0.3607 - val_accuracy: 0.8537\n",
      "Epoch 12/40\n",
      "11/11 [==============================] - 9s 794ms/step - loss: 0.0664 - accuracy: 0.9814 - val_loss: 0.3316 - val_accuracy: 0.8780\n",
      "Epoch 13/40\n",
      "11/11 [==============================] - 10s 926ms/step - loss: 0.0896 - accuracy: 0.9627 - val_loss: 0.2983 - val_accuracy: 0.9024\n",
      "Epoch 14/40\n",
      "11/11 [==============================] - 9s 795ms/step - loss: 0.0375 - accuracy: 0.9938 - val_loss: 0.2865 - val_accuracy: 0.9024\n",
      "Epoch 15/40\n",
      "11/11 [==============================] - 10s 902ms/step - loss: 0.0361 - accuracy: 0.9814 - val_loss: 0.2770 - val_accuracy: 0.8537\n",
      "Epoch 16/40\n",
      "11/11 [==============================] - 10s 881ms/step - loss: 0.1017 - accuracy: 0.9627 - val_loss: 0.2433 - val_accuracy: 0.9268\n",
      "Epoch 17/40\n",
      "11/11 [==============================] - 11s 959ms/step - loss: 0.0489 - accuracy: 0.9876 - val_loss: 0.1996 - val_accuracy: 0.9512\n",
      "Epoch 18/40\n",
      "11/11 [==============================] - 11s 945ms/step - loss: 0.0295 - accuracy: 0.9876 - val_loss: 0.3059 - val_accuracy: 0.8537\n",
      "Epoch 19/40\n",
      "11/11 [==============================] - 10s 903ms/step - loss: 0.0245 - accuracy: 0.9938 - val_loss: 0.2480 - val_accuracy: 0.9024\n",
      "Epoch 20/40\n",
      "11/11 [==============================] - 9s 809ms/step - loss: 0.0524 - accuracy: 0.9876 - val_loss: 0.2109 - val_accuracy: 0.9024\n",
      "Epoch 21/40\n",
      "11/11 [==============================] - 9s 839ms/step - loss: 0.0396 - accuracy: 0.9814 - val_loss: 0.2575 - val_accuracy: 0.9024\n",
      "Epoch 22/40\n",
      "11/11 [==============================] - 10s 879ms/step - loss: 0.0430 - accuracy: 0.9752 - val_loss: 0.3458 - val_accuracy: 0.9024\n",
      "Epoch 23/40\n",
      "11/11 [==============================] - 10s 831ms/step - loss: 0.0138 - accuracy: 1.0000 - val_loss: 0.3797 - val_accuracy: 0.9268\n",
      "Epoch 00023: early stopping\n"
     ]
    }
   ],
   "source": [
    "train_gen8,val_gen8,test_gen8 = data_aug(preprocess_wrapper8)\n",
    "model8,history8 = imgnet_model(train_gen8,val_gen8,'model/model8.h5')"
   ]
  },
  {
   "cell_type": "code",
   "execution_count": null,
   "id": "e00567bd-ad4e-49d4-b9ca-f5514b115e46",
   "metadata": {},
   "outputs": [],
   "source": [
    "model_performance(history8)"
   ]
  },
  {
   "cell_type": "code",
   "execution_count": 30,
   "id": "d2524788-9e6e-43cd-95be-9c1d7359d074",
   "metadata": {},
   "outputs": [
    {
     "name": "stdout",
     "output_type": "stream",
     "text": [
      "Val Accuracy =  0.9411764705882353\n",
      "              precision    recall  f1-score   support\n",
      "\n",
      "           0       0.88      0.93      0.90        15\n",
      "           1       0.97      0.94      0.96        36\n",
      "\n",
      "    accuracy                           0.94        51\n",
      "   macro avg       0.92      0.94      0.93        51\n",
      "weighted avg       0.94      0.94      0.94        51\n",
      "\n"
     ]
    },
    {
     "data": {
      "image/png": "[encoded data removed]",
      "text/plain": [
       "<Figure size 432x288 with 2 Axes>"
      ]
     },
     "metadata": {
      "needs_background": "light"
     },
     "output_type": "display_data"
    }
   ],
   "source": [
    "model_report(model8,test_gen8)"
   ]
  },
  {
   "cell_type": "markdown",
   "id": "d9bcea56-f402-494e-888f-df97489ba64f",
   "metadata": {},
   "source": [
    "### <a id = \"9\"> 6.9 With Erosion + CLAHE </a> "
   ]
  },
  {
   "cell_type": "code",
   "execution_count": 21,
   "id": "7edb7416-2040-4d18-9ba7-13dfd9816e9a",
   "metadata": {},
   "outputs": [],
   "source": [
    "processes9 = ['erosion','clahe']"
   ]
  },
  {
   "cell_type": "code",
   "execution_count": 22,
   "id": "fa3c6966-f253-41ea-b0a2-83b104d2f664",
   "metadata": {},
   "outputs": [],
   "source": [
    "def preprocess_wrapper9(img):\n",
    "    return preprocess_pipeline(processes9,img)"
   ]
  },
  {
   "cell_type": "code",
   "execution_count": 23,
   "id": "2dbb12df-4a68-48f7-81fa-1c39834f28a9",
   "metadata": {},
   "outputs": [
    {
     "name": "stdout",
     "output_type": "stream",
     "text": [
      "Found 161 validated image filenames belonging to 2 classes.\n",
      "Found 41 validated image filenames belonging to 2 classes.\n",
      "Found 51 validated image filenames belonging to 2 classes.\n",
      "Model: \"sequential\"\n",
      "_________________________________________________________________\n",
      "Layer (type)                 Output Shape              Param #   \n",
      "=================================================================\n",
      "inception_resnet_v2 (Functio (None, 4, 4, 1536)        54336736  \n",
      "_________________________________________________________________\n",
      "global_average_pooling2d (Gl (None, 1536)              0         \n",
      "_________________________________________________________________\n",
      "dense (Dense)                (None, 128)               196736    \n",
      "_________________________________________________________________\n",
      "batch_normalization_203 (Bat (None, 128)               512       \n",
      "_________________________________________________________________\n",
      "dropout (Dropout)            (None, 128)               0         \n",
      "_________________________________________________________________\n",
      "dense_1 (Dense)              (None, 1)                 129       \n",
      "=================================================================\n",
      "Total params: 54,534,113\n",
      "Trainable params: 54,473,313\n",
      "Non-trainable params: 60,800\n",
      "_________________________________________________________________\n",
      "Epoch 1/40\n",
      "11/11 [==============================] - 144s 2s/step - loss: 0.7904 - accuracy: 0.5963 - val_loss: 0.5576 - val_accuracy: 0.8049\n",
      "Epoch 2/40\n",
      "11/11 [==============================] - 27s 2s/step - loss: 0.4479 - accuracy: 0.7702 - val_loss: 0.4260 - val_accuracy: 0.8049\n",
      "Epoch 3/40\n",
      "11/11 [==============================] - 7s 604ms/step - loss: 0.3483 - accuracy: 0.8385 - val_loss: 0.3392 - val_accuracy: 0.8537\n",
      "Epoch 4/40\n",
      "11/11 [==============================] - 7s 605ms/step - loss: 0.2900 - accuracy: 0.8944 - val_loss: 0.3982 - val_accuracy: 0.8537\n",
      "Epoch 5/40\n",
      "11/11 [==============================] - 7s 647ms/step - loss: 0.2392 - accuracy: 0.8882 - val_loss: 0.5121 - val_accuracy: 0.7805\n",
      "Epoch 6/40\n",
      "11/11 [==============================] - 7s 618ms/step - loss: 0.2152 - accuracy: 0.9193 - val_loss: 0.3941 - val_accuracy: 0.8780\n",
      "Epoch 7/40\n",
      "11/11 [==============================] - 7s 609ms/step - loss: 0.0897 - accuracy: 0.9814 - val_loss: 0.3232 - val_accuracy: 0.9024\n",
      "Epoch 8/40\n",
      "11/11 [==============================] - 7s 607ms/step - loss: 0.1384 - accuracy: 0.9379 - val_loss: 0.3226 - val_accuracy: 0.8780\n",
      "Epoch 9/40\n",
      "11/11 [==============================] - 8s 663ms/step - loss: 0.1268 - accuracy: 0.9752 - val_loss: 0.2749 - val_accuracy: 0.8537\n",
      "Epoch 10/40\n",
      "11/11 [==============================] - 8s 674ms/step - loss: 0.0897 - accuracy: 0.9689 - val_loss: 0.2713 - val_accuracy: 0.8780\n",
      "Epoch 11/40\n",
      "11/11 [==============================] - 7s 640ms/step - loss: 0.0897 - accuracy: 0.9689 - val_loss: 0.2569 - val_accuracy: 0.8780\n",
      "Epoch 12/40\n",
      "11/11 [==============================] - 7s 588ms/step - loss: 0.0787 - accuracy: 0.9814 - val_loss: 0.3799 - val_accuracy: 0.9024\n",
      "Epoch 13/40\n",
      "11/11 [==============================] - 8s 682ms/step - loss: 0.0776 - accuracy: 0.9752 - val_loss: 0.4618 - val_accuracy: 0.7561\n",
      "Epoch 00013: early stopping\n"
     ]
    }
   ],
   "source": [
    "train_gen9,val_gen9,test_gen9 = data_aug(preprocess_wrapper9)\n",
    "model9,history9 = imgnet_model(train_gen9,val_gen9,'model/model9.h5')"
   ]
  },
  {
   "cell_type": "code",
   "execution_count": null,
   "id": "f4891a90-e870-4267-936b-9b8fadb86a66",
   "metadata": {},
   "outputs": [],
   "source": [
    "model_performance(history9)"
   ]
  },
  {
   "cell_type": "code",
   "execution_count": 25,
   "id": "1f9b489a-23a8-465e-8a68-b0965bdfe732",
   "metadata": {},
   "outputs": [
    {
     "name": "stdout",
     "output_type": "stream",
     "text": [
      "Val Accuracy =  0.803921568627451\n",
      "              precision    recall  f1-score   support\n",
      "\n",
      "           0       0.60      1.00      0.75        15\n",
      "           1       1.00      0.72      0.84        36\n",
      "\n",
      "    accuracy                           0.80        51\n",
      "   macro avg       0.80      0.86      0.79        51\n",
      "weighted avg       0.88      0.80      0.81        51\n",
      "\n"
     ]
    },
    {
     "data": {
      "image/png": "[encoded data removed]",
      "text/plain": [
       "<Figure size 432x288 with 2 Axes>"
      ]
     },
     "metadata": {
      "needs_background": "light"
     },
     "output_type": "display_data"
    }
   ],
   "source": [
    "model_report(model9,test_gen9)"
   ]
  },
  {
   "cell_type": "markdown",
   "id": "5544f455-1e7e-42e5-9693-be5eae80c682",
   "metadata": {},
   "source": [
    "### <a id = \"10\"> 6.10 With Cropped Image </a>  "
   ]
  },
  {
   "cell_type": "code",
   "execution_count": 52,
   "id": "469ab904-23ee-44dc-9179-0a796262b408",
   "metadata": {},
   "outputs": [],
   "source": [
    "processes10 = ['crop']"
   ]
  },
  {
   "cell_type": "code",
   "execution_count": 54,
   "id": "28f00c2f-1812-4e17-b3b6-074b67e469ba",
   "metadata": {},
   "outputs": [],
   "source": [
    "def preprocess_wrapper10(img):\n",
    "    return preprocess_pipeline(processes10,img)"
   ]
  },
  {
   "cell_type": "code",
   "execution_count": 59,
   "id": "f5ed9fb3-0d7b-4d86-aa14-7f5145ff62c1",
   "metadata": {},
   "outputs": [
    {
     "name": "stdout",
     "output_type": "stream",
     "text": [
      "Found 161 validated image filenames belonging to 2 classes.\n",
      "Found 41 validated image filenames belonging to 2 classes.\n",
      "Found 51 validated image filenames belonging to 2 classes.\n",
      "Model: \"sequential_6\"\n",
      "_________________________________________________________________\n",
      "Layer (type)                 Output Shape              Param #   \n",
      "=================================================================\n",
      "inception_resnet_v2 (Functio (None, 4, 4, 1536)        54336736  \n",
      "_________________________________________________________________\n",
      "global_average_pooling2d_6 ( (None, 1536)              0         \n",
      "_________________________________________________________________\n",
      "dense_12 (Dense)             (None, 128)               196736    \n",
      "_________________________________________________________________\n",
      "batch_normalization_1427 (Ba (None, 128)               512       \n",
      "_________________________________________________________________\n",
      "dropout_6 (Dropout)          (None, 128)               0         \n",
      "_________________________________________________________________\n",
      "dense_13 (Dense)             (None, 1)                 129       \n",
      "=================================================================\n",
      "Total params: 54,534,113\n",
      "Trainable params: 54,473,313\n",
      "Non-trainable params: 60,800\n",
      "_________________________________________________________________\n",
      "Epoch 1/40\n",
      "11/11 [==============================] - 29s 1s/step - loss: 0.6610 - accuracy: 0.6832 - val_loss: 0.6123 - val_accuracy: 0.6585\n",
      "Epoch 2/40\n",
      "11/11 [==============================] - 13s 1s/step - loss: 0.4276 - accuracy: 0.7764 - val_loss: 0.5131 - val_accuracy: 0.8049\n",
      "Epoch 3/40\n",
      "11/11 [==============================] - 12s 1s/step - loss: 0.3604 - accuracy: 0.8758 - val_loss: 0.3995 - val_accuracy: 0.8293\n",
      "Epoch 4/40\n",
      "11/11 [==============================] - 13s 1s/step - loss: 0.2476 - accuracy: 0.9006 - val_loss: 0.4032 - val_accuracy: 0.8293\n",
      "Epoch 5/40\n",
      "11/11 [==============================] - 13s 1s/step - loss: 0.1784 - accuracy: 0.9503 - val_loss: 0.3833 - val_accuracy: 0.9024\n",
      "Epoch 6/40\n",
      "11/11 [==============================] - 12s 1s/step - loss: 0.1366 - accuracy: 0.9627 - val_loss: 0.3267 - val_accuracy: 0.9024\n",
      "Epoch 7/40\n",
      "11/11 [==============================] - 12s 1s/step - loss: 0.1284 - accuracy: 0.9503 - val_loss: 0.3082 - val_accuracy: 0.9268\n",
      "Epoch 8/40\n",
      "11/11 [==============================] - 12s 1s/step - loss: 0.1286 - accuracy: 0.9565 - val_loss: 0.3103 - val_accuracy: 0.9024\n",
      "Epoch 9/40\n",
      "11/11 [==============================] - 13s 1s/step - loss: 0.0720 - accuracy: 0.9876 - val_loss: 0.3566 - val_accuracy: 0.9024\n",
      "Epoch 10/40\n",
      "11/11 [==============================] - 13s 1s/step - loss: 0.0778 - accuracy: 0.9752 - val_loss: 0.2886 - val_accuracy: 0.8780\n",
      "Epoch 11/40\n",
      "11/11 [==============================] - 12s 1s/step - loss: 0.0651 - accuracy: 0.9814 - val_loss: 0.3060 - val_accuracy: 0.8537\n",
      "Epoch 12/40\n",
      "11/11 [==============================] - 12s 1s/step - loss: 0.0486 - accuracy: 0.9876 - val_loss: 0.3511 - val_accuracy: 0.9024\n",
      "Epoch 13/40\n",
      "11/11 [==============================] - 12s 1s/step - loss: 0.0715 - accuracy: 0.9689 - val_loss: 0.3798 - val_accuracy: 0.8780\n",
      "Epoch 00013: early stopping\n"
     ]
    }
   ],
   "source": [
    "train_gen10,val_gen10,test_gen10 = data_aug(preprocess_wrapper10)\n",
    "model10,history10 = imgnet_model(train_gen10,val_gen10,'model/model10.h5')"
   ]
  },
  {
   "cell_type": "code",
   "execution_count": null,
   "id": "d1a292b6-1120-434a-af2c-2a093d41c045",
   "metadata": {},
   "outputs": [],
   "source": [
    "model_performance(history10)"
   ]
  },
  {
   "cell_type": "code",
   "execution_count": 61,
   "id": "ffd2173d-d1b4-418b-85ee-4721fa0fef87",
   "metadata": {},
   "outputs": [
    {
     "name": "stdout",
     "output_type": "stream",
     "text": [
      "Val Accuracy =  0.9019607843137255\n",
      "              precision    recall  f1-score   support\n",
      "\n",
      "           0       0.75      1.00      0.86        15\n",
      "           1       1.00      0.86      0.93        36\n",
      "\n",
      "    accuracy                           0.90        51\n",
      "   macro avg       0.88      0.93      0.89        51\n",
      "weighted avg       0.93      0.90      0.91        51\n",
      "\n"
     ]
    },
    {
     "data": {
      "image/png": "[encoded data removed]",
      "text/plain": [
       "<Figure size 432x288 with 2 Axes>"
      ]
     },
     "metadata": {
      "needs_background": "light"
     },
     "output_type": "display_data"
    }
   ],
   "source": [
    "model_report(model10,test_gen10)"
   ]
  },
  {
   "cell_type": "markdown",
   "id": "09206cff-43e9-4ad5-babe-3043961e6a16",
   "metadata": {},
   "source": [
    "### <a id = \"11\"> 6.11 With Cropped + Median Image </a>   "
   ]
  },
  {
   "cell_type": "code",
   "execution_count": 22,
   "id": "335231bf-0650-46e0-8e7b-5f1a8177d481",
   "metadata": {},
   "outputs": [],
   "source": [
    "processes11 = ['crop','median filter']"
   ]
  },
  {
   "cell_type": "code",
   "execution_count": 23,
   "id": "65d5786a-9a37-455e-97fb-a99b88a1cebe",
   "metadata": {},
   "outputs": [],
   "source": [
    "def preprocess_wrapper11(img):\n",
    "    return preprocess_pipeline(processes11,img)"
   ]
  },
  {
   "cell_type": "code",
   "execution_count": 24,
   "id": "18bc4d1a-7246-4a6e-9ce0-3993e292febf",
   "metadata": {},
   "outputs": [
    {
     "name": "stdout",
     "output_type": "stream",
     "text": [
      "Found 161 validated image filenames belonging to 2 classes.\n",
      "Found 41 validated image filenames belonging to 2 classes.\n",
      "Found 51 validated image filenames belonging to 2 classes.\n",
      "Model: \"sequential\"\n",
      "_________________________________________________________________\n",
      "Layer (type)                 Output Shape              Param #   \n",
      "=================================================================\n",
      "inception_resnet_v2 (Functio (None, 4, 4, 1536)        54336736  \n",
      "_________________________________________________________________\n",
      "global_average_pooling2d (Gl (None, 1536)              0         \n",
      "_________________________________________________________________\n",
      "dense (Dense)                (None, 128)               196736    \n",
      "_________________________________________________________________\n",
      "batch_normalization_203 (Bat (None, 128)               512       \n",
      "_________________________________________________________________\n",
      "dropout (Dropout)            (None, 128)               0         \n",
      "_________________________________________________________________\n",
      "dense_1 (Dense)              (None, 1)                 129       \n",
      "=================================================================\n",
      "Total params: 54,534,113\n",
      "Trainable params: 54,473,313\n",
      "Non-trainable params: 60,800\n",
      "_________________________________________________________________\n",
      "Epoch 1/40\n",
      "11/11 [==============================] - 48s 2s/step - loss: 0.7063 - accuracy: 0.6460 - val_loss: 0.6475 - val_accuracy: 0.7317\n",
      "Epoch 2/40\n",
      "11/11 [==============================] - 16s 1s/step - loss: 0.5868 - accuracy: 0.7391 - val_loss: 0.4509 - val_accuracy: 0.8537\n",
      "Epoch 3/40\n",
      "11/11 [==============================] - 14s 1s/step - loss: 0.4649 - accuracy: 0.7764 - val_loss: 0.4382 - val_accuracy: 0.7561\n",
      "Epoch 4/40\n",
      "11/11 [==============================] - 15s 1s/step - loss: 0.4128 - accuracy: 0.8385 - val_loss: 0.3891 - val_accuracy: 0.8049\n",
      "Epoch 5/40\n",
      "11/11 [==============================] - 14s 1s/step - loss: 0.3361 - accuracy: 0.8509 - val_loss: 0.4205 - val_accuracy: 0.8537\n",
      "Epoch 6/40\n",
      "11/11 [==============================] - 14s 1s/step - loss: 0.2138 - accuracy: 0.9068 - val_loss: 0.3884 - val_accuracy: 0.8780\n",
      "Epoch 7/40\n",
      "11/11 [==============================] - 15s 1s/step - loss: 0.2369 - accuracy: 0.9130 - val_loss: 0.3743 - val_accuracy: 0.9024\n",
      "Epoch 8/40\n",
      "11/11 [==============================] - 16s 1s/step - loss: 0.1678 - accuracy: 0.9193 - val_loss: 0.3408 - val_accuracy: 0.8537\n",
      "Epoch 9/40\n",
      "11/11 [==============================] - 16s 1s/step - loss: 0.1318 - accuracy: 0.9441 - val_loss: 0.3273 - val_accuracy: 0.9268\n",
      "Epoch 10/40\n",
      "11/11 [==============================] - 16s 1s/step - loss: 0.1078 - accuracy: 0.9627 - val_loss: 0.3364 - val_accuracy: 0.8780\n",
      "Epoch 11/40\n",
      "11/11 [==============================] - 15s 1s/step - loss: 0.1298 - accuracy: 0.9379 - val_loss: 0.2628 - val_accuracy: 0.9512\n",
      "Epoch 12/40\n",
      "11/11 [==============================] - 16s 1s/step - loss: 0.1247 - accuracy: 0.9317 - val_loss: 0.2881 - val_accuracy: 0.9268\n",
      "Epoch 13/40\n",
      "11/11 [==============================] - 15s 1s/step - loss: 0.0891 - accuracy: 0.9689 - val_loss: 0.3785 - val_accuracy: 0.8780\n",
      "Epoch 14/40\n",
      "11/11 [==============================] - 17s 1s/step - loss: 0.0872 - accuracy: 0.9752 - val_loss: 0.2621 - val_accuracy: 0.9268\n",
      "Epoch 15/40\n",
      "11/11 [==============================] - 16s 2s/step - loss: 0.0750 - accuracy: 0.9876 - val_loss: 2.1162 - val_accuracy: 0.8537\n",
      "Epoch 16/40\n",
      "11/11 [==============================] - 16s 1s/step - loss: 0.0813 - accuracy: 0.9814 - val_loss: 3.1358 - val_accuracy: 0.9024\n",
      "Epoch 17/40\n",
      "11/11 [==============================] - 16s 1s/step - loss: 0.0819 - accuracy: 0.9814 - val_loss: 5.0667 - val_accuracy: 0.9268\n",
      "Epoch 00017: early stopping\n"
     ]
    }
   ],
   "source": [
    "train_gen11,val_gen11,test_gen11 = data_aug(preprocess_wrapper11)\n",
    "model11,history11 = imgnet_model(train_gen11,val_gen11,'model/model11.h5')"
   ]
  },
  {
   "cell_type": "code",
   "execution_count": null,
   "id": "9c908fcd-d2d3-4cdf-bee5-4a03dd2de194",
   "metadata": {},
   "outputs": [],
   "source": [
    "model_performance(history11)"
   ]
  },
  {
   "cell_type": "code",
   "execution_count": 26,
   "id": "1353fbdf-8a71-45b1-bc74-57a078d874d6",
   "metadata": {},
   "outputs": [
    {
     "name": "stdout",
     "output_type": "stream",
     "text": [
      "Val Accuracy =  0.9803921568627451\n",
      "              precision    recall  f1-score   support\n",
      "\n",
      "           0       1.00      0.93      0.97        15\n",
      "           1       0.97      1.00      0.99        36\n",
      "\n",
      "    accuracy                           0.98        51\n",
      "   macro avg       0.99      0.97      0.98        51\n",
      "weighted avg       0.98      0.98      0.98        51\n",
      "\n"
     ]
    },
    {
     "data": {
      "image/png": "[encoded data removed]",
      "text/plain": [
       "<Figure size 432x288 with 2 Axes>"
      ]
     },
     "metadata": {
      "needs_background": "light"
     },
     "output_type": "display_data"
    }
   ],
   "source": [
    "model_report(model11,test_gen11)"
   ]
  },
  {
   "cell_type": "markdown",
   "id": "602027fc-4eac-4094-891d-5f1c8b5bd71e",
   "metadata": {},
   "source": [
    "### <a id = \"12\"> 6.12 With Cropped + Median + Erosion Image </a>    "
   ]
  },
  {
   "cell_type": "code",
   "execution_count": 27,
   "id": "8be76d86-1f2c-44f8-abcb-62104773792e",
   "metadata": {},
   "outputs": [],
   "source": [
    "processes12 = ['crop','median filter','erosion']"
   ]
  },
  {
   "cell_type": "code",
   "execution_count": 28,
   "id": "05a9b222-5d67-4027-a7fc-70c5aef79a15",
   "metadata": {},
   "outputs": [],
   "source": [
    "def preprocess_wrapper12(img):\n",
    "    return preprocess_pipeline(processes12,img)"
   ]
  },
  {
   "cell_type": "code",
   "execution_count": 29,
   "id": "0d634b3f-0ff7-4451-98ee-56b4c62dcad2",
   "metadata": {},
   "outputs": [
    {
     "name": "stdout",
     "output_type": "stream",
     "text": [
      "Found 161 validated image filenames belonging to 2 classes.\n",
      "Found 41 validated image filenames belonging to 2 classes.\n",
      "Found 51 validated image filenames belonging to 2 classes.\n",
      "Model: \"sequential_1\"\n",
      "_________________________________________________________________\n",
      "Layer (type)                 Output Shape              Param #   \n",
      "=================================================================\n",
      "inception_resnet_v2 (Functio (None, 4, 4, 1536)        54336736  \n",
      "_________________________________________________________________\n",
      "global_average_pooling2d_1 ( (None, 1536)              0         \n",
      "_________________________________________________________________\n",
      "dense_2 (Dense)              (None, 128)               196736    \n",
      "_________________________________________________________________\n",
      "batch_normalization_407 (Bat (None, 128)               512       \n",
      "_________________________________________________________________\n",
      "dropout_1 (Dropout)          (None, 128)               0         \n",
      "_________________________________________________________________\n",
      "dense_3 (Dense)              (None, 1)                 129       \n",
      "=================================================================\n",
      "Total params: 54,534,113\n",
      "Trainable params: 54,473,313\n",
      "Non-trainable params: 60,800\n",
      "_________________________________________________________________\n",
      "Epoch 1/40\n",
      "11/11 [==============================] - 32s 2s/step - loss: 0.7284 - accuracy: 0.5776 - val_loss: 0.4793 - val_accuracy: 0.8049\n",
      "Epoch 2/40\n",
      "11/11 [==============================] - 15s 1s/step - loss: 0.4825 - accuracy: 0.7702 - val_loss: 0.4722 - val_accuracy: 0.7561\n",
      "Epoch 3/40\n",
      "11/11 [==============================] - 14s 1s/step - loss: 0.4044 - accuracy: 0.8137 - val_loss: 0.4066 - val_accuracy: 0.7561\n",
      "Epoch 4/40\n",
      "11/11 [==============================] - 14s 1s/step - loss: 0.2938 - accuracy: 0.8634 - val_loss: 0.4265 - val_accuracy: 0.8049\n",
      "Epoch 5/40\n",
      "11/11 [==============================] - 17s 1s/step - loss: 0.2333 - accuracy: 0.9193 - val_loss: 0.4418 - val_accuracy: 0.8293\n",
      "Epoch 6/40\n",
      "11/11 [==============================] - 18s 2s/step - loss: 0.1885 - accuracy: 0.9503 - val_loss: 0.4272 - val_accuracy: 0.8049\n",
      "Epoch 7/40\n",
      "11/11 [==============================] - 16s 1s/step - loss: 0.0989 - accuracy: 0.9689 - val_loss: 0.4008 - val_accuracy: 0.8049\n",
      "Epoch 8/40\n",
      "11/11 [==============================] - 16s 2s/step - loss: 0.1489 - accuracy: 0.9317 - val_loss: 0.3595 - val_accuracy: 0.8537\n",
      "Epoch 9/40\n",
      "11/11 [==============================] - 16s 1s/step - loss: 0.0681 - accuracy: 0.9814 - val_loss: 0.3458 - val_accuracy: 0.8537\n",
      "Epoch 10/40\n",
      "11/11 [==============================] - 14s 1s/step - loss: 0.0856 - accuracy: 0.9752 - val_loss: 0.3942 - val_accuracy: 0.8293\n",
      "Epoch 11/40\n",
      "11/11 [==============================] - 16s 1s/step - loss: 0.0721 - accuracy: 0.9876 - val_loss: 0.3604 - val_accuracy: 0.8537\n",
      "Epoch 12/40\n",
      "11/11 [==============================] - 17s 1s/step - loss: 0.0788 - accuracy: 0.9565 - val_loss: 0.3173 - val_accuracy: 0.8780\n",
      "Epoch 13/40\n",
      "11/11 [==============================] - 17s 2s/step - loss: 0.1280 - accuracy: 0.9627 - val_loss: 0.5213 - val_accuracy: 0.8293\n",
      "Epoch 14/40\n",
      "11/11 [==============================] - 16s 1s/step - loss: 0.0467 - accuracy: 0.9876 - val_loss: 0.3721 - val_accuracy: 0.8049\n",
      "Epoch 15/40\n",
      "11/11 [==============================] - 16s 1s/step - loss: 0.0667 - accuracy: 0.9752 - val_loss: 4.1723 - val_accuracy: 0.8537\n",
      "Epoch 16/40\n",
      "11/11 [==============================] - 16s 1s/step - loss: 0.0424 - accuracy: 0.9876 - val_loss: 3.3375 - val_accuracy: 0.8780\n",
      "Epoch 17/40\n",
      "11/11 [==============================] - 16s 1s/step - loss: 0.0632 - accuracy: 0.9814 - val_loss: 1.6102 - val_accuracy: 0.8537\n",
      "Epoch 18/40\n",
      "11/11 [==============================] - 16s 1s/step - loss: 0.0836 - accuracy: 0.9627 - val_loss: 3.9583 - val_accuracy: 0.9268\n",
      "Epoch 19/40\n",
      "11/11 [==============================] - 17s 2s/step - loss: 0.0765 - accuracy: 0.9689 - val_loss: 4.6386 - val_accuracy: 0.8049\n",
      "Epoch 20/40\n",
      "11/11 [==============================] - 17s 2s/step - loss: 0.0341 - accuracy: 0.9938 - val_loss: 2.1605 - val_accuracy: 0.8537\n",
      "Epoch 21/40\n",
      "11/11 [==============================] - 17s 1s/step - loss: 0.0566 - accuracy: 0.9938 - val_loss: 6.2240 - val_accuracy: 0.8780\n",
      "Epoch 22/40\n",
      "11/11 [==============================] - 17s 1s/step - loss: 0.0472 - accuracy: 0.9752 - val_loss: 18.3616 - val_accuracy: 0.9268\n",
      "Epoch 23/40\n",
      "11/11 [==============================] - 16s 1s/step - loss: 0.0680 - accuracy: 0.9814 - val_loss: 27.2124 - val_accuracy: 0.8537\n",
      "Epoch 24/40\n",
      "11/11 [==============================] - 16s 1s/step - loss: 0.0735 - accuracy: 0.9627 - val_loss: 6.5800 - val_accuracy: 0.9024\n",
      "Epoch 00024: early stopping\n"
     ]
    }
   ],
   "source": [
    "train_gen12,val_gen12,test_gen12 = data_aug(preprocess_wrapper12)\n",
    "model12,history12 = imgnet_model(train_gen12,val_gen12,'model/model12.h5')"
   ]
  },
  {
   "cell_type": "code",
   "execution_count": null,
   "id": "82c50b7a-a005-4b99-8642-fe3cd6b1e17b",
   "metadata": {},
   "outputs": [],
   "source": [
    "model_performance(history12)"
   ]
  },
  {
   "cell_type": "code",
   "execution_count": 31,
   "id": "25a2cf2c-ee94-465f-ad38-240c563055ea",
   "metadata": {},
   "outputs": [
    {
     "name": "stdout",
     "output_type": "stream",
     "text": [
      "Val Accuracy =  0.9803921568627451\n",
      "              precision    recall  f1-score   support\n",
      "\n",
      "           0       1.00      0.93      0.97        15\n",
      "           1       0.97      1.00      0.99        36\n",
      "\n",
      "    accuracy                           0.98        51\n",
      "   macro avg       0.99      0.97      0.98        51\n",
      "weighted avg       0.98      0.98      0.98        51\n",
      "\n"
     ]
    },
    {
     "data": {
      "image/png": "[encoded data removed]",
      "text/plain": [
       "<Figure size 432x288 with 2 Axes>"
      ]
     },
     "metadata": {
      "needs_background": "light"
     },
     "output_type": "display_data"
    }
   ],
   "source": [
    "model_report(model11,test_gen12)"
   ]
  }
 ],
 "metadata": {
  "kernelspec": {
   "display_name": "Python 3",
   "language": "python",
   "name": "python3"
  },
  "language_info": {
   "codemirror_mode": {
    "name": "ipython",
    "version": 3
   },
   "file_extension": ".py",
   "mimetype": "text/x-python",
   "name": "python",
   "nbconvert_exporter": "python",
   "pygments_lexer": "ipython3",
   "version": "3.6.9"
  }
 },
 "nbformat": 4,
 "nbformat_minor": 5
}
